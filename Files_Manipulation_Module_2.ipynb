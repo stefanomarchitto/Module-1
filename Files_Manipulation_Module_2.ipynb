{
  "cells": [
    {
      "cell_type": "markdown",
      "metadata": {
        "id": "view-in-github",
        "colab_type": "text"
      },
      "source": [
        "<a href=\"https://colab.research.google.com/github/stefanomarchitto/Module-1/blob/main/Files_Manipulation_Module_2.ipynb\" target=\"_parent\"><img src=\"https://colab.research.google.com/assets/colab-badge.svg\" alt=\"Open In Colab\"/></a>"
      ]
    },
    {
      "cell_type": "markdown",
      "source": [
        "# 1.&nbsp;Set Up"
      ],
      "metadata": {
        "id": "bDYb4uuwZ2xh"
      }
    },
    {
      "cell_type": "code",
      "execution_count": 1,
      "metadata": {
        "id": "_NXz7PBlN_KU"
      },
      "outputs": [],
      "source": [
        "# Import Libraries\n",
        "import os\n",
        "import glob\n",
        "import shutil\n",
        "import sys\n",
        "from pathlib import Path\n",
        "import pandas as pd"
      ]
    },
    {
      "cell_type": "code",
      "source": [
        "# Accessing Google Drive from Google Colab\n",
        "\n",
        "from google.colab import drive \n",
        "drive.mount('/content/gdrive')"
      ],
      "metadata": {
        "id": "8GkeyXnRAA_-",
        "colab": {
          "base_uri": "https://localhost:8080/"
        },
        "outputId": "2f97d35d-2252-4c4d-848b-cf79ce8bdea9"
      },
      "execution_count": 2,
      "outputs": [
        {
          "output_type": "stream",
          "name": "stdout",
          "text": [
            "Mounted at /content/gdrive\n"
          ]
        }
      ]
    },
    {
      "cell_type": "markdown",
      "metadata": {
        "id": "u1Ow-Eg4YHZA"
      },
      "source": [
        "# 2.&nbsp;Paths : CWD, Absolute vs Relative paths"
      ]
    },
    {
      "cell_type": "markdown",
      "source": [
        "## CWD: current working directory"
      ],
      "metadata": {
        "id": "lqaHbSJVl6_p"
      }
    },
    {
      "cell_type": "code",
      "execution_count": 14,
      "metadata": {
        "id": "bbKBUTlTYHZB",
        "colab": {
          "base_uri": "https://localhost:8080/",
          "height": 53
        },
        "outputId": "17edfab4-fd7c-4e50-9b64-95b10c226863"
      },
      "outputs": [
        {
          "output_type": "stream",
          "name": "stdout",
          "text": [
            "The current working directory is : \n"
          ]
        },
        {
          "output_type": "execute_result",
          "data": {
            "text/plain": [
              "'/content'"
            ],
            "application/vnd.google.colaboratory.intrinsic+json": {
              "type": "string"
            }
          },
          "metadata": {},
          "execution_count": 14
        }
      ],
      "source": [
        "# get absolute path to current working directory\n",
        "\n",
        "#os.chdir('/content')\n",
        "\n",
        "print('The current working directory is : ')\n",
        "os.getcwd() "
      ]
    },
    {
      "cell_type": "code",
      "source": [
        "# save current working directory as cwd\n",
        "cwd = os.getcwd()\n",
        "cwd"
      ],
      "metadata": {
        "id": "HOSQo6ofYZIi",
        "colab": {
          "base_uri": "https://localhost:8080/",
          "height": 35
        },
        "outputId": "ca68b6a2-cf38-48b3-83b8-a044b16d00c8"
      },
      "execution_count": 15,
      "outputs": [
        {
          "output_type": "execute_result",
          "data": {
            "text/plain": [
              "'/content'"
            ],
            "application/vnd.google.colaboratory.intrinsic+json": {
              "type": "string"
            }
          },
          "metadata": {},
          "execution_count": 15
        }
      ]
    },
    {
      "cell_type": "code",
      "source": [
        "# List all files and directories in current directory\n",
        "\n",
        "os.listdir('.') #  ==> we have 3 directories : config, gdrive, sample_data and other files"
      ],
      "metadata": {
        "id": "YAud5pWJjR7D",
        "colab": {
          "base_uri": "https://localhost:8080/"
        },
        "outputId": "ac6d4b2b-7a7d-428e-efd8-e5e93377be4f"
      },
      "execution_count": 16,
      "outputs": [
        {
          "output_type": "execute_result",
          "data": {
            "text/plain": [
              "['.config', 'Raw_Files', 'gdrive', 'sample_data']"
            ]
          },
          "metadata": {},
          "execution_count": 16
        }
      ]
    },
    {
      "cell_type": "code",
      "source": [
        "# check conaining in sample_data directory\n",
        "\n",
        "print(os.listdir('sample_data'))"
      ],
      "metadata": {
        "id": "aRUp1uLfjgcx",
        "colab": {
          "base_uri": "https://localhost:8080/"
        },
        "outputId": "5306860e-07ce-49f2-c153-f8533db7219c"
      },
      "execution_count": 17,
      "outputs": [
        {
          "output_type": "stream",
          "name": "stdout",
          "text": [
            "['anscombe.json', 'README.md', 'california_housing_test.csv', 'california_housing_train.csv', 'mnist_test.csv', 'mnist_train_small.csv']\n"
          ]
        }
      ]
    },
    {
      "cell_type": "markdown",
      "source": [
        "## Paths: Absolute & Relative"
      ],
      "metadata": {
        "id": "1NeODryrmHWC"
      }
    },
    {
      "cell_type": "markdown",
      "source": [
        "**Absolute file paths** are notated by a leading forward slash or drive label. For example, /home/example_user/example_directory or C:/system32/cmd.exe. An absolute file path describes how to access a given file or directory, starting from the root of the file system. A file path is also called a pathname.\n"
      ],
      "metadata": {
        "id": "JSOoWIiOk4Jw"
      }
    },
    {
      "cell_type": "code",
      "source": [
        "# check containing in gdrive directory with aboslute path\n",
        "\n",
        "print(os.listdir('/content/gdrive')) \n",
        "print(os.listdir('/content/gdrive/MyDrive'))\n",
        "print(os.listdir('/content/gdrive/MyDrive/Colab Notebooks'))"
      ],
      "metadata": {
        "id": "W1nieMycjfI6",
        "colab": {
          "base_uri": "https://localhost:8080/"
        },
        "outputId": "7906b6d2-83ca-4543-fa4b-496ec654c070"
      },
      "execution_count": 18,
      "outputs": [
        {
          "output_type": "stream",
          "name": "stdout",
          "text": [
            "['.shortcut-targets-by-id', 'MyDrive', '.file-revisions-by-id', '.Trash-0']\n",
            "['Reference Letter Dolores.pdf', 'Copia di Reference Letter Dolores.pdf', 'Vodafone Vertrag.pdf', 'Machine Learning Models', 'Data Analysis Yeisson', 'Colab Notebooks', 'Snorkeling Iceland', 'Comple_Fabri_Gemelli.mp4', 'Documento senza titolo.gdoc', 'Addio al Celibato.gdoc', 'Hi MILES, can you help me please?', 'Gargano 2020', 'Thompson_Sampling_Slide.gdoc', 'Marchitto19860509-31301-541F5D34-05CE-44c2-A84C-9DA5C8455ADF.xlsx']\n",
            "['Test.ipynb', 'Copy of Test.ipynb', 'Untitled', 'Python_Basics_Module_1 (1).ipynb', 'Python_Basics_Module_1_Practice.ipynb', 'Copy of Python_Basics_Module_1_Practice.ipynb', 'Python_Basics_Module_1.ipynb', 'Python_Basics_Module_1_Practice_2.ipynb', 'Python_Basics_Module_1_Practice_2 (1).ipynb', 'Files_Manipulation_Module_2.ipynb']\n"
          ]
        }
      ]
    },
    {
      "cell_type": "markdown",
      "source": [
        "**Relative file paths** are notated by a lack of a leading forward slash. For example, example_directory. A relative file path is interpreted from the perspective your current working directory. If you use a relative file path from the wrong directory, then the path will refer to a different file than you intend, or it will refer to no file at all."
      ],
      "metadata": {
        "id": "ZkNB-oRjlG7U"
      }
    },
    {
      "cell_type": "code",
      "source": [
        "# check conaining in gdrive directory with relative path\n",
        "\n",
        "print(os.listdir('gdrive')) \n",
        "print(os.listdir('gdrive/MyDrive'))\n",
        "print(os.listdir('gdrive/MyDrive/Colab Notebooks'))"
      ],
      "metadata": {
        "id": "ZfOiSUfmkiKT",
        "colab": {
          "base_uri": "https://localhost:8080/"
        },
        "outputId": "b47f287c-6e22-4e73-bfde-84387da6545a"
      },
      "execution_count": 19,
      "outputs": [
        {
          "output_type": "stream",
          "name": "stdout",
          "text": [
            "['.shortcut-targets-by-id', 'MyDrive', '.file-revisions-by-id', '.Trash-0']\n",
            "['Reference Letter Dolores.pdf', 'Copia di Reference Letter Dolores.pdf', 'Vodafone Vertrag.pdf', 'Machine Learning Models', 'Data Analysis Yeisson', 'Colab Notebooks', 'Snorkeling Iceland', 'Comple_Fabri_Gemelli.mp4', 'Documento senza titolo.gdoc', 'Addio al Celibato.gdoc', 'Hi MILES, can you help me please?', 'Gargano 2020', 'Thompson_Sampling_Slide.gdoc', 'Marchitto19860509-31301-541F5D34-05CE-44c2-A84C-9DA5C8455ADF.xlsx']\n",
            "['Test.ipynb', 'Copy of Test.ipynb', 'Untitled', 'Python_Basics_Module_1 (1).ipynb', 'Python_Basics_Module_1_Practice.ipynb', 'Copy of Python_Basics_Module_1_Practice.ipynb', 'Python_Basics_Module_1.ipynb', 'Python_Basics_Module_1_Practice_2.ipynb', 'Python_Basics_Module_1_Practice_2 (1).ipynb', 'Files_Manipulation_Module_2.ipynb']\n"
          ]
        }
      ]
    },
    {
      "cell_type": "code",
      "source": [
        "# delete a notebook from Colab Notebook ==> Name_Notebook.ipynb after '/content/gdrive/MyDrive/Colab Notebooks/ + Name_Notebook.ipynb'\n",
        "\n",
        "# os.unlink('/content/gdrive/MyDrive/Colab Notebooks/Copy of Fille_Manipulation_Module_2_Practice.ipynb') # relative path as UK_old in the working directory\n"
      ],
      "metadata": {
        "id": "PmCZ28V6jz21"
      },
      "execution_count": 20,
      "outputs": []
    },
    {
      "cell_type": "markdown",
      "source": [
        "## Import files"
      ],
      "metadata": {
        "id": "YMsZrwvkmRWB"
      }
    },
    {
      "cell_type": "code",
      "source": [
        "# import files into google Colab\n",
        "from google.colab import files"
      ],
      "metadata": {
        "id": "vMtWKHrYDYdH"
      },
      "execution_count": 21,
      "outputs": []
    },
    {
      "cell_type": "code",
      "source": [
        "# upload from your local : excel files \"DE.xlsx\", 'UK.xlsx\", 'FR.xlsx' and 'UK_old.xlsx'\n",
        "uploaded = files.upload()"
      ],
      "metadata": {
        "id": "_H0qa3TEP5n7",
        "colab": {
          "base_uri": "https://localhost:8080/",
          "height": 177
        },
        "outputId": "4266184c-b943-4096-9921-104f23795c56"
      },
      "execution_count": 22,
      "outputs": [
        {
          "output_type": "display_data",
          "data": {
            "text/plain": [
              "<IPython.core.display.HTML object>"
            ],
            "text/html": [
              "\n",
              "     <input type=\"file\" id=\"files-2210b1b8-4cb1-49ce-ad51-d25943f7da46\" name=\"files[]\" multiple disabled\n",
              "        style=\"border:none\" />\n",
              "     <output id=\"result-2210b1b8-4cb1-49ce-ad51-d25943f7da46\">\n",
              "      Upload widget is only available when the cell has been executed in the\n",
              "      current browser session. Please rerun this cell to enable.\n",
              "      </output>\n",
              "      <script>// Copyright 2017 Google LLC\n",
              "//\n",
              "// Licensed under the Apache License, Version 2.0 (the \"License\");\n",
              "// you may not use this file except in compliance with the License.\n",
              "// You may obtain a copy of the License at\n",
              "//\n",
              "//      http://www.apache.org/licenses/LICENSE-2.0\n",
              "//\n",
              "// Unless required by applicable law or agreed to in writing, software\n",
              "// distributed under the License is distributed on an \"AS IS\" BASIS,\n",
              "// WITHOUT WARRANTIES OR CONDITIONS OF ANY KIND, either express or implied.\n",
              "// See the License for the specific language governing permissions and\n",
              "// limitations under the License.\n",
              "\n",
              "/**\n",
              " * @fileoverview Helpers for google.colab Python module.\n",
              " */\n",
              "(function(scope) {\n",
              "function span(text, styleAttributes = {}) {\n",
              "  const element = document.createElement('span');\n",
              "  element.textContent = text;\n",
              "  for (const key of Object.keys(styleAttributes)) {\n",
              "    element.style[key] = styleAttributes[key];\n",
              "  }\n",
              "  return element;\n",
              "}\n",
              "\n",
              "// Max number of bytes which will be uploaded at a time.\n",
              "const MAX_PAYLOAD_SIZE = 100 * 1024;\n",
              "\n",
              "function _uploadFiles(inputId, outputId) {\n",
              "  const steps = uploadFilesStep(inputId, outputId);\n",
              "  const outputElement = document.getElementById(outputId);\n",
              "  // Cache steps on the outputElement to make it available for the next call\n",
              "  // to uploadFilesContinue from Python.\n",
              "  outputElement.steps = steps;\n",
              "\n",
              "  return _uploadFilesContinue(outputId);\n",
              "}\n",
              "\n",
              "// This is roughly an async generator (not supported in the browser yet),\n",
              "// where there are multiple asynchronous steps and the Python side is going\n",
              "// to poll for completion of each step.\n",
              "// This uses a Promise to block the python side on completion of each step,\n",
              "// then passes the result of the previous step as the input to the next step.\n",
              "function _uploadFilesContinue(outputId) {\n",
              "  const outputElement = document.getElementById(outputId);\n",
              "  const steps = outputElement.steps;\n",
              "\n",
              "  const next = steps.next(outputElement.lastPromiseValue);\n",
              "  return Promise.resolve(next.value.promise).then((value) => {\n",
              "    // Cache the last promise value to make it available to the next\n",
              "    // step of the generator.\n",
              "    outputElement.lastPromiseValue = value;\n",
              "    return next.value.response;\n",
              "  });\n",
              "}\n",
              "\n",
              "/**\n",
              " * Generator function which is called between each async step of the upload\n",
              " * process.\n",
              " * @param {string} inputId Element ID of the input file picker element.\n",
              " * @param {string} outputId Element ID of the output display.\n",
              " * @return {!Iterable<!Object>} Iterable of next steps.\n",
              " */\n",
              "function* uploadFilesStep(inputId, outputId) {\n",
              "  const inputElement = document.getElementById(inputId);\n",
              "  inputElement.disabled = false;\n",
              "\n",
              "  const outputElement = document.getElementById(outputId);\n",
              "  outputElement.innerHTML = '';\n",
              "\n",
              "  const pickedPromise = new Promise((resolve) => {\n",
              "    inputElement.addEventListener('change', (e) => {\n",
              "      resolve(e.target.files);\n",
              "    });\n",
              "  });\n",
              "\n",
              "  const cancel = document.createElement('button');\n",
              "  inputElement.parentElement.appendChild(cancel);\n",
              "  cancel.textContent = 'Cancel upload';\n",
              "  const cancelPromise = new Promise((resolve) => {\n",
              "    cancel.onclick = () => {\n",
              "      resolve(null);\n",
              "    };\n",
              "  });\n",
              "\n",
              "  // Wait for the user to pick the files.\n",
              "  const files = yield {\n",
              "    promise: Promise.race([pickedPromise, cancelPromise]),\n",
              "    response: {\n",
              "      action: 'starting',\n",
              "    }\n",
              "  };\n",
              "\n",
              "  cancel.remove();\n",
              "\n",
              "  // Disable the input element since further picks are not allowed.\n",
              "  inputElement.disabled = true;\n",
              "\n",
              "  if (!files) {\n",
              "    return {\n",
              "      response: {\n",
              "        action: 'complete',\n",
              "      }\n",
              "    };\n",
              "  }\n",
              "\n",
              "  for (const file of files) {\n",
              "    const li = document.createElement('li');\n",
              "    li.append(span(file.name, {fontWeight: 'bold'}));\n",
              "    li.append(span(\n",
              "        `(${file.type || 'n/a'}) - ${file.size} bytes, ` +\n",
              "        `last modified: ${\n",
              "            file.lastModifiedDate ? file.lastModifiedDate.toLocaleDateString() :\n",
              "                                    'n/a'} - `));\n",
              "    const percent = span('0% done');\n",
              "    li.appendChild(percent);\n",
              "\n",
              "    outputElement.appendChild(li);\n",
              "\n",
              "    const fileDataPromise = new Promise((resolve) => {\n",
              "      const reader = new FileReader();\n",
              "      reader.onload = (e) => {\n",
              "        resolve(e.target.result);\n",
              "      };\n",
              "      reader.readAsArrayBuffer(file);\n",
              "    });\n",
              "    // Wait for the data to be ready.\n",
              "    let fileData = yield {\n",
              "      promise: fileDataPromise,\n",
              "      response: {\n",
              "        action: 'continue',\n",
              "      }\n",
              "    };\n",
              "\n",
              "    // Use a chunked sending to avoid message size limits. See b/62115660.\n",
              "    let position = 0;\n",
              "    do {\n",
              "      const length = Math.min(fileData.byteLength - position, MAX_PAYLOAD_SIZE);\n",
              "      const chunk = new Uint8Array(fileData, position, length);\n",
              "      position += length;\n",
              "\n",
              "      const base64 = btoa(String.fromCharCode.apply(null, chunk));\n",
              "      yield {\n",
              "        response: {\n",
              "          action: 'append',\n",
              "          file: file.name,\n",
              "          data: base64,\n",
              "        },\n",
              "      };\n",
              "\n",
              "      let percentDone = fileData.byteLength === 0 ?\n",
              "          100 :\n",
              "          Math.round((position / fileData.byteLength) * 100);\n",
              "      percent.textContent = `${percentDone}% done`;\n",
              "\n",
              "    } while (position < fileData.byteLength);\n",
              "  }\n",
              "\n",
              "  // All done.\n",
              "  yield {\n",
              "    response: {\n",
              "      action: 'complete',\n",
              "    }\n",
              "  };\n",
              "}\n",
              "\n",
              "scope.google = scope.google || {};\n",
              "scope.google.colab = scope.google.colab || {};\n",
              "scope.google.colab._files = {\n",
              "  _uploadFiles,\n",
              "  _uploadFilesContinue,\n",
              "};\n",
              "})(self);\n",
              "</script> "
            ]
          },
          "metadata": {}
        },
        {
          "output_type": "stream",
          "name": "stdout",
          "text": [
            "Saving DE.xlsx to DE.xlsx\n",
            "Saving FR.xlsx to FR.xlsx\n",
            "Saving UK.xlsx to UK.xlsx\n",
            "Saving UK_old.xlsx to UK_old.xlsx\n"
          ]
        }
      ]
    },
    {
      "cell_type": "code",
      "source": [
        "# List all files and directories in current directory\n",
        "os.listdir('.')"
      ],
      "metadata": {
        "id": "G-CfZN5wYvew",
        "colab": {
          "base_uri": "https://localhost:8080/"
        },
        "outputId": "df2b5dda-7a8e-43c0-c99f-d1ebbec873a9"
      },
      "execution_count": 23,
      "outputs": [
        {
          "output_type": "execute_result",
          "data": {
            "text/plain": [
              "['.config',\n",
              " 'DE.xlsx',\n",
              " 'UK.xlsx',\n",
              " 'Raw_Files',\n",
              " 'gdrive',\n",
              " 'FR.xlsx',\n",
              " 'UK_old.xlsx',\n",
              " 'sample_data']"
            ]
          },
          "metadata": {},
          "execution_count": 23
        }
      ]
    },
    {
      "cell_type": "markdown",
      "metadata": {
        "id": "bPlad8w9_dfJ"
      },
      "source": [
        "# 3.&nbsp;Folder hierarchy tree"
      ]
    },
    {
      "cell_type": "code",
      "source": [
        "# delete files\n",
        "\n",
        "#os.unlink('New_Folder')"
      ],
      "metadata": {
        "id": "AF9Mu1YK7v-z"
      },
      "execution_count": null,
      "outputs": []
    },
    {
      "cell_type": "code",
      "execution_count": 24,
      "metadata": {
        "id": "74BL7BcF_dfK",
        "colab": {
          "base_uri": "https://localhost:8080/"
        },
        "outputId": "064f0852-2452-4718-dc28-b65ff7f55b45"
      },
      "outputs": [
        {
          "output_type": "stream",
          "name": "stdout",
          "text": [
            "| ---- > content :\n",
            "| ------------ DE.xlsx\n",
            "| ------------ UK.xlsx\n",
            "| ------------ FR.xlsx\n",
            "| ------------ UK_old.xlsx\n",
            "| ------ > .config :\n",
            "| ------------------ active_config\n",
            "| ------------------ .last_opt_in_prompt.yaml\n",
            "| ------------------ .last_survey_prompt.yaml\n",
            "| ------------------ .last_update_check.json\n",
            "| ------------------ gce\n",
            "| ------------------ config_sentinel\n",
            "| -------- > configurations :\n",
            "| ------------------------ config_default\n",
            "| -------- > logs :\n",
            "| ---------- > 2023.02.09 :\n",
            "| ------------------------------ 00.00.56.519297.log\n",
            "| ------------------------------ 00.01.51.378393.log\n",
            "| ------------------------------ 00.02.16.185644.log\n",
            "| ------------------------------ 00.02.15.490980.log\n",
            "| ------------------------------ 00.01.43.663040.log\n",
            "| ------------------------------ 00.01.20.713691.log\n",
            "| ------ > Raw_Files :\n",
            "| ------ > gdrive :\n",
            "| -------- > .shortcut-targets-by-id :\n",
            "| -------- > MyDrive :\n",
            "| ------------------------ Reference Letter Dolores.pdf\n",
            "| ------------------------ Copia di Reference Letter Dolores.pdf\n",
            "| ------------------------ Vodafone Vertrag.pdf\n",
            "| ------------------------ Comple_Fabri_Gemelli.mp4\n",
            "| ------------------------ Documento senza titolo.gdoc\n",
            "| ------------------------ Addio al Celibato.gdoc\n",
            "| ------------------------ Hi MILES, can you help me please?\n",
            "| ------------------------ Thompson_Sampling_Slide.gdoc\n",
            "| ------------------------ Marchitto19860509-31301-541F5D34-05CE-44c2-A84C-9DA5C8455ADF.xlsx\n",
            "| ---------- > Machine Learning Models :\n",
            "| ------------ > Part 1 - Data Preprocessing :\n",
            "| ------------------------------------ 2.MODELS_data_preprocessing_tools.ipynb\n",
            "| ------------------------------------ 1.MODELS_data_preprocessing_tools.ipynb\n",
            "| ------------ > Part 2 - Regression :\n",
            "| -------------- > 1.Simple Linear Regression :\n",
            "| ------------------------------------------ 1.MODELS_simple_linear_regression.ipynb\n",
            "| -------------- > 2.Multiple Linear Regression :\n",
            "| ------------------------------------------ 2.2.MODELS_multiple_linear_regression.ipynb\n",
            "| ------------------------------------------ Real_Estate_Regression.ipynb\n",
            "| ------------------------------------------ 2.MODELS_multiple_linear_regression.ipynb\n",
            "| -------------- > 3.Polynomial Regression :\n",
            "| ------------------------------------------ 3.MODELS_polynomial_regression.ipynb\n",
            "| -------------- > 4.Support Vector Regression :\n",
            "| ------------------------------------------ 4.MODELS_support_vector_regression.ipynb\n",
            "| -------------- > 5.Decision Tree Regression :\n",
            "| ------------------------------------------ 5.MODELS_decision_tree_regression.ipynb\n",
            "| -------------- > 6.Random Forest Regression :\n",
            "| ------------------------------------------ 6.MODELS_random_forest_regression.ipynb\n",
            "| -------------- > 7.Regression Model Selection :\n",
            "| ------------------------------------------ 1.SELECTION_ multiple_linear_regression.ipynb\n",
            "| ------------------------------------------ 2.SELECTION_polynomial_regression.ipynb\n",
            "| ------------------------------------------ 3.SELECTION_support_vector_regression.ipynb\n",
            "| ------------------------------------------ 4.SELECTION_decision_tree_regression.ipynb\n",
            "| ------------------------------------------ 5.SELECTION_random_forest_regression.ipynb\n",
            "| ------------ > Part 3 - Classification :\n",
            "| ------------------------------------ Breast_Cancer_Logit.ipynb\n",
            "| -------------- > 1.Logistic Regression Model :\n",
            "| ------------------------------------------ 1.MODELS_ logistic_regression.ipynb\n",
            "| -------------- > 2.K-Nearest Neighbors :\n",
            "| ------------------------------------------ 2.MODELS_k_nearest_neighbors.ipynb\n",
            "| -------------- > 3.Support Vector Machine :\n",
            "| ------------------------------------------ 3.MODELS_support_vector_machine.ipynb\n",
            "| -------------- > 4.Kernel SVM :\n",
            "| ------------------------------------------ 4.MODELS_kernel_svm.ipynb\n",
            "| -------------- > 5.Naive Bayes :\n",
            "| ------------------------------------------ 5.MODELS_naive_bayes.ipynb\n",
            "| -------------- > 6.Decision Tree  :\n",
            "| ------------------------------------------ 6.MODELS_decision_tree_classification.ipynb\n",
            "| -------------- > 7.Random Forest :\n",
            "| ------------------------------------------ 7.MODELS_random_forest_classification.ipynb\n",
            "| ------------ > Part 4 - Clustering :\n",
            "| -------------- > 1.K-Means Clustering :\n",
            "| ------------------------------------------ k-means-clustering.ipynb\n",
            "| -------------- > 2.Hierarchical Clustering :\n",
            "| ------------------------------------------ Hierarchical-clustering.ipynb\n",
            "| ------------ > Part 5 - Association Rule Learning :\n",
            "| -------------- > 1.Apriori :\n",
            "| ------------------------------------------ Apriori.ipynb\n",
            "| -------------- > 2.ECLAT :\n",
            "| ------------------------------------------ ECLAT.ipynb\n",
            "| ------------ > Part 5 - Reinforcement Learning :\n",
            "| -------------- > 1.Upper Confidence Bound (UCB) :\n",
            "| ------------------------------------------ Upper_Confidence_Bound(UCB).ipynb\n",
            "| -------------- > 2.Thompson Sampling :\n",
            "| ------------------------------------------ Thompson_Sampling.ipynb\n",
            "| ------------ > Part 6 - Natural Language Processing (NLP & BERT) :\n",
            "| -------------- > 1.NLP :\n",
            "| ------------------------------------------ Single_Review_Prediction_NLP.ipynb\n",
            "| ------------------------------------------ Natural_Language_Processing.ipynb\n",
            "| -------------- > 1.NLP_BERT :\n",
            "| ------------------------------------------ NLP with Bert for Sentiment Analysis\n",
            "| ------------ > Part 7 - Deep Lerning :\n",
            "| -------------- > 1.Artificial Neural Networks (ANN) :\n",
            "| ---------------- > a.Classification :\n",
            "| ------------------------------------------------ Classification_Artificial_Neural_Network.ipynb\n",
            "| ---------------- > b.Regression :\n",
            "| ------------------------------------------------ Regression_Artificial_Neural_Network\n",
            "| -------------- > 2.Convolutional Neural Networks (CNN) :\n",
            "| ------------------------------------------ Convolutional_Neural_Network.ipynb\n",
            "| ------------ > Part 8 - Dimensionality Reduction (PCA, LDA, Kernel PCA, QDA) :\n",
            "| -------------- > 1.Principal Component Analysis (PCA) :\n",
            "| ------------------------------------------ PCA.ipynb\n",
            "| -------------- > 2.Linear Discriminant Analysis (LDA) :\n",
            "| ------------------------------------------ LDA.ipynb\n",
            "| -------------- > 3.Kernel PCA :\n",
            "| ------------------------------------------ Kernel_PCA.ipynb\n",
            "| ------------ > Part 9 - Model Selection & Boosting :\n",
            "| -------------- > 1.Model Selection (K-Fold Cross Validation - Grid Search) :\n",
            "| ------------------------------------------ K-Fold_Cross_Validation.ipynb\n",
            "| ------------------------------------------ Grid_Search.ipynb\n",
            "| -------------- > 2.XG Boost :\n",
            "| ------------------------------------------ XG_Boost_Classification.ipynb\n",
            "| ------------------------------------------ XG_Boost_Regression.ipynb\n",
            "| -------------- > 3.CatBoost :\n",
            "| ------------------------------------------ CatBoost_Classification.ipynb\n",
            "| ------------------------------------------ CatBoost_Regression.ipynb\n",
            "| ---------- > Data Analysis Yeisson :\n",
            "| ------------------------------ Engine - Rank .py\n",
            "| ------------------------------ CSM_company.py\n",
            "| ------------------------------ 2_CSM_Stefano.py\n",
            "| ------------ > Regression :\n",
            "| ------------------------------------ simple_linear_regression.R\n",
            "| ------------------------------------ simple_linear_regression.py\n",
            "| ------------------------------------ multiple_linear_regression.py\n",
            "| ------------------------------------ multiple_linear_regression.R\n",
            "| ------------------------------------ polynomial_regression.R\n",
            "| ------------------------------------ polynomial_regression.py\n",
            "| ------------------------------------ svr.R\n",
            "| ------------------------------------ svr.py\n",
            "| ------------------------------------ decision_tree_regression.R\n",
            "| ------------------------------------ decision_tree_regression.py\n",
            "| ------------------------------------ random_forest_regression.R\n",
            "| ------------------------------------ random_forest_regression.py\n",
            "| ------------ > Classification :\n",
            "| ------------------------------------ logistic_regression.R\n",
            "| ------------------------------------ logistic_regression.py\n",
            "| ------------------------------------ knn.R\n",
            "| ------------------------------------ knn.py\n",
            "| ------------------------------------ svm.R\n",
            "| ------------------------------------ svm.py\n",
            "| ------------------------------------ kernel_svm.py\n",
            "| ------------------------------------ kernel_svm.R\n",
            "| ------------------------------------ naive_bayes.R\n",
            "| ------------------------------------ naive_bayes.py\n",
            "| ------------------------------------ decision_tree_classification.R\n",
            "| ------------------------------------ decision_tree_classification.py\n",
            "| ------------------------------------ random_forest_classification.py\n",
            "| ------------------------------------ random_forest_classification.R\n",
            "| ------------ > Honey_Case :\n",
            "| ------------------------------------ HoneypotCaseStudy-DataScientist.pdf\n",
            "| -------------- > #1 :\n",
            "| ------------------------------------------ search_results_s1.csv\n",
            "| ------------------------------------------ search_results_s2.csv\n",
            "| ------------------------------------------ search_results_s4.csv\n",
            "| ------------------------------------------ search_results_s3.csv\n",
            "| ------------------------------------------ search_results_s5.csv\n",
            "| ------------------------------------------ 1_search_algorithms.ipynb\n",
            "| -------------- > #2 :\n",
            "| ------------------------------------------ Data_Analyst_Company_Activity.csv\n",
            "| ------------------------------------------ 2_CSM_Team.ipynb\n",
            "| ---------- > Colab Notebooks :\n",
            "| ------------------------------ Test.ipynb\n",
            "| ------------------------------ Copy of Test.ipynb\n",
            "| ------------------------------ Untitled\n",
            "| ------------------------------ Python_Basics_Module_1 (1).ipynb\n",
            "| ------------------------------ Python_Basics_Module_1_Practice.ipynb\n",
            "| ------------------------------ Copy of Python_Basics_Module_1_Practice.ipynb\n",
            "| ------------------------------ Python_Basics_Module_1.ipynb\n",
            "| ------------------------------ Python_Basics_Module_1_Practice_2.ipynb\n",
            "| ------------------------------ Python_Basics_Module_1_Practice_2 (1).ipynb\n",
            "| ------------------------------ Files_Manipulation_Module_2.ipynb\n",
            "| ---------- > Snorkeling Iceland :\n",
            "| ------------------------------ Copia di G0182998.JPG\n",
            "| ------------------------------ Copia di G0182995.JPG\n",
            "| ------------------------------ Copia di GOPR2943.JPG\n",
            "| ------------------------------ Copia di G0182999.JPG\n",
            "| ------------------------------ Copia di G0183000.JPG\n",
            "| ------------------------------ Copia di G0182997.JPG\n",
            "| ------------------------------ Copia di G0182996.JPG\n",
            "| ------------------------------ Copia di GOPR2942.JPG\n",
            "| ------------------------------ Copia di GOPR2944.JPG\n",
            "| ------------------------------ Copia di G0183001.JPG\n",
            "| ------------------------------ Copia di GOPR2945.JPG\n",
            "| ------------------------------ Copia di GOPR2946.JPG\n",
            "| ------------------------------ Copia di GOPR2948.JPG\n",
            "| ------------------------------ Copia di GOPR2950.JPG\n",
            "| ------------------------------ Copia di GOPR2951.JPG\n",
            "| ------------------------------ Copia di GOPR2954.JPG\n",
            "| ------------------------------ Copia di GOPR2947.JPG\n",
            "| ------------------------------ Copia di GOPR2953.JPG\n",
            "| ------------------------------ Copia di GOPR2952.JPG\n",
            "| ------------------------------ Copia di GOPR2964.JPG\n",
            "| ------------------------------ Copia di GOPR2962.JPG\n",
            "| ------------------------------ Copia di GOPR2956.JPG\n",
            "| ------------------------------ Copia di GOPR2960.JPG\n",
            "| ------------------------------ Copia di GOPR2957.JPG\n",
            "| ------------------------------ Copia di GOPR2963.JPG\n",
            "| ------------------------------ Copia di GOPR2959.JPG\n",
            "| ------------------------------ Copia di GOPR2955.JPG\n",
            "| ------------------------------ Copia di GOPR2958.JPG\n",
            "| ------------------------------ Copia di GOPR2961.JPG\n",
            "| ------------------------------ Copia di GOPR2971.JPG\n",
            "| ------------------------------ Copia di GOPR2967.JPG\n",
            "| ------------------------------ Copia di GOPR2966.JPG\n",
            "| ------------------------------ Copia di GOPR2973.JPG\n",
            "| ------------------------------ Copia di GOPR2968.JPG\n",
            "| ------------------------------ Copia di GOPR2974.JPG\n",
            "| ------------------------------ Copia di GOPR2972.JPG\n",
            "| ------------------------------ Copia di GOPR2970.JPG\n",
            "| ------------------------------ Copia di GOPR2969.JPG\n",
            "| ------------------------------ Copia di GOPR2965.JPG\n",
            "| ------------------------------ Copia di GOPR2984.JPG\n",
            "| ------------------------------ Copia di GOPR2975.JPG\n",
            "| ------------------------------ Copia di GOPR2976.JPG\n",
            "| ------------------------------ Copia di GOPR2982.JPG\n",
            "| ------------------------------ Copia di GOPR2978.JPG\n",
            "| ------------------------------ Copia di GOPR2977.JPG\n",
            "| ------------------------------ Copia di GOPR2983.JPG\n",
            "| ------------------------------ Copia di GOPR2979.JPG\n",
            "| ------------------------------ Copia di GOPR2980.JPG\n",
            "| ------------------------------ Copia di GOPR2991.JPG\n",
            "| ------------------------------ Copia di GOPR2994.JPG\n",
            "| ------------------------------ Copia di GOPR2989.JPG\n",
            "| ------------------------------ Copia di GOPR2986.JPG\n",
            "| ------------------------------ Copia di GOPR2993.JPG\n",
            "| ------------------------------ Copia di GOPR2987.JPG\n",
            "| ------------------------------ Copia di GOPR2988.JPG\n",
            "| ------------------------------ Copia di GOPR2985.JPG\n",
            "| ------------------------------ Copia di GOPR2992.JPG\n",
            "| ------------------------------ Copia di GOPR3004.JPG\n",
            "| ------------------------------ Copia di GOPR3005.JPG\n",
            "| ------------------------------ Copia di GOPR3006.JPG\n",
            "| ------------------------------ Copia di GOPR3010.JPG\n",
            "| ------------------------------ Copia di GOPR3002.JPG\n",
            "| ------------------------------ Copia di GOPR3008.JPG\n",
            "| ------------------------------ Copia di GOPR3003.JPG\n",
            "| ------------------------------ Copia di GOPR3011.JPG\n",
            "| ------------------------------ Copia di GOPR3009.JPG\n",
            "| ------------------------------ Copia di GOPR3007.JPG\n",
            "| ------------------------------ Copia di GOPR3014.JPG\n",
            "| ------------------------------ Copia di GOPR3016.JPG\n",
            "| ------------------------------ Copia di GOPR3012.JPG\n",
            "| ------------------------------ Copia di GOPR3021.JPG\n",
            "| ------------------------------ Copia di GOPR3020.JPG\n",
            "| ------------------------------ Copia di GOPR3013.JPG\n",
            "| ------------------------------ Copia di GOPR3019.JPG\n",
            "| ------------------------------ Copia di GOPR3015.JPG\n",
            "| ------------------------------ Copia di GOPR3018.JPG\n",
            "| ------------------------------ Copia di GOPR3017.JPG\n",
            "| ------------------------------ Copia di GOPR3025.JPG\n",
            "| ------------------------------ Copia di GOPR3026.JPG\n",
            "| ------------------------------ Copia di GOPR3024.JPG\n",
            "| ------------------------------ Copia di GOPR3027.JPG\n",
            "| ------------------------------ Copia di GOPR3028.JPG\n",
            "| ------------------------------ Copia di GOPR3022.JPG\n",
            "| ------------------------------ Copia di GOPR3029.JPG\n",
            "| ------------------------------ Copia di GOPR3023.JPG\n",
            "| ------------------------------ Copia di GOPR3031.JPG\n",
            "| ------------------------------ Copia di GOPR3030.JPG\n",
            "| ------------------------------ Copia di GOPR3032.JPG\n",
            "| ------------------------------ Copia di GOPR3037.JPG\n",
            "| ------------------------------ Copia di GOPR3033.JPG\n",
            "| ------------------------------ Copia di GOPR3040.JPG\n",
            "| ------------------------------ Copia di GOPR3038.JPG\n",
            "| ------------------------------ Copia di GOPR3039.JPG\n",
            "| ------------------------------ Copia di GOPR3041.JPG\n",
            "| ------------------------------ Copia di GOPR3034.JPG\n",
            "| ------------------------------ Copia di GOPR3036.JPG\n",
            "| ------------------------------ Copia di GOPR3035.JPG\n",
            "| ------------------------------ Copia di GOPR3043.JPG\n",
            "| ------------------------------ Copia di GOPR3050.JPG\n",
            "| ------------------------------ Copia di GOPR3049.JPG\n",
            "| ------------------------------ Copia di GOPR3048.JPG\n",
            "| ------------------------------ Copia di GOPR3051.JPG\n",
            "| ------------------------------ Copia di GOPR3045.JPG\n",
            "| ------------------------------ Copia di GOPR3046.JPG\n",
            "| ------------------------------ Copia di GOPR3044.JPG\n",
            "| ------------------------------ Copia di GOPR3047.JPG\n",
            "| ------------------------------ Copia di GOPR3042.JPG\n",
            "| ------------------------------ Copia di GOPR3053.JPG\n",
            "| ------------------------------ Copia di GOPR3060.JPG\n",
            "| ------------------------------ Copia di GOPR3054.JPG\n",
            "| ------------------------------ Copia di GOPR3058.JPG\n",
            "| ------------------------------ Copia di GOPR3052.JPG\n",
            "| ------------------------------ Copia di GOPR3057.JPG\n",
            "| ------------------------------ Copia di GOPR3056.JPG\n",
            "| ------------------------------ Copia di GOPR3059.JPG\n",
            "| ------------------------------ Copia di GOPR3061.JPG\n",
            "| ------------------------------ Copia di GOPR3055.JPG\n",
            "| ------------------------------ Copia di GOPR3066.JPG\n",
            "| ------------------------------ Copia di GOPR3065.JPG\n",
            "| ------------------------------ Copia di GOPR3067.JPG\n",
            "| ------------------------------ Copia di GOPR3070.JPG\n",
            "| ------------------------------ Copia di GOPR3063.JPG\n",
            "| ------------------------------ Copia di GOPR3069.JPG\n",
            "| ------------------------------ Copia di GOPR3064.JPG\n",
            "| ------------------------------ Copia di GOPR3075.JPG\n",
            "| ------------------------------ Copia di GOPR3074.JPG\n",
            "| ------------------------------ Copia di GOPR3073.JPG\n",
            "| ------------------------------ Copia di GOPR3077.JPG\n",
            "| ------------------------------ Copia di GOPR3079.JPG\n",
            "| ------------------------------ Copia di GOPR3072.JPG\n",
            "| ------------------------------ Copia di GOPR3080.JPG\n",
            "| ------------------------------ Copia di GOPR3076.JPG\n",
            "| ------------------------------ Copia di GOPR3078.JPG\n",
            "| ---------- > Gargano 2020 :\n",
            "| ------------------------------ 20200923_104612.jpg\n",
            "| ------------------------------ 20200923_120542.jpg\n",
            "| ------------------------------ 20200923_193408.jpg\n",
            "| ------------------------------ 20200923_193419.jpg\n",
            "| ------------------------------ 20200923_194158.jpg\n",
            "| ------------------------------ 20200923_194744.jpg\n",
            "| ------------------------------ 20200923_195508.jpg\n",
            "| ------------------------------ 20200923_195522.jpg\n",
            "| ------------------------------ 20200923_195551.jpg\n",
            "| ------------------------------ 20200923_195707.jpg\n",
            "| ------------------------------ 20200924_101906.jpg\n",
            "| ------------------------------ 20200924_101909.jpg\n",
            "| ------------------------------ 20200924_101919.jpg\n",
            "| ------------------------------ 20200924_134242.jpg\n",
            "| ------------------------------ 20200924_134252.jpg\n",
            "| ------------------------------ 20200924_134306.jpg\n",
            "| ------------------------------ 20200924_134411.jpg\n",
            "| ------------------------------ 20200924_134445.jpg\n",
            "| ------------------------------ 20200924_134451.jpg\n",
            "| ------------------------------ 20200924_134504.jpg\n",
            "| ------------------------------ 20200924_134622.jpg\n",
            "| ------------------------------ 20200924_134645.jpg\n",
            "| ------------------------------ 20200924_134724.jpg\n",
            "| ------------------------------ 20200924_135405.jpg\n",
            "| ------------------------------ 20200924_135407.jpg\n",
            "| ------------------------------ 20200924_135505.jpg\n",
            "| ------------------------------ 20200924_135510.jpg\n",
            "| ------------------------------ 20200924_135738.jpg\n",
            "| ------------------------------ 20200924_135747.jpg\n",
            "| ------------------------------ 20200924_135848.jpg\n",
            "| ------------------------------ 20200924_140629.jpg\n",
            "| ------------------------------ 20200924_140647.jpg\n",
            "| ------------------------------ 20200924_140712.jpg\n",
            "| ------------------------------ 20200924_140909.jpg\n",
            "| ------------------------------ 20200924_140916.jpg\n",
            "| ------------------------------ 20200924_140922.jpg\n",
            "| ------------------------------ 20200924_141018.jpg\n",
            "| ------------------------------ 20200924_141020.jpg\n",
            "| ------------------------------ 20200924_141024.jpg\n",
            "| ------------------------------ 20200924_141028.jpg\n",
            "| ------------------------------ 20200924_141055.jpg\n",
            "| ------------------------------ 20200924_141210.jpg\n",
            "| ------------------------------ 20200924_141215.jpg\n",
            "| ------------------------------ 20200924_141230.jpg\n",
            "| ------------------------------ 20200924_141343.jpg\n",
            "| ------------------------------ 20200924_141348.jpg\n",
            "| ------------------------------ 20200924_141420.jpg\n",
            "| ------------------------------ 20200924_141444.jpg\n",
            "| ------------------------------ 20200924_141604.jpg\n",
            "| ------------------------------ 20200924_141616.jpg\n",
            "| ------------------------------ 20200924_141714.jpg\n",
            "| ------------------------------ 20200924_141716.jpg\n",
            "| ------------------------------ 20200924_141717.jpg\n",
            "| ------------------------------ 20200924_142053.jpg\n",
            "| ------------------------------ 20200924_142105.jpg\n",
            "| ------------------------------ 20200924_142137.jpg\n",
            "| ------------------------------ 20200924_142201.jpg\n",
            "| ------------------------------ 20200924_142426.jpg\n",
            "| ------------------------------ 20200924_142448.jpg\n",
            "| ------------------------------ 20200924_142509.jpg\n",
            "| ------------------------------ 20200924_142536.jpg\n",
            "| ------------------------------ 20200924_142729.jpg\n",
            "| ------------------------------ 20200924_142731.jpg\n",
            "| ------------------------------ 20200924_142747.jpg\n",
            "| ------------------------------ 20200924_142818.jpg\n",
            "| ------------------------------ 20200924_152127.jpg\n",
            "| ------------------------------ 20200924_162735.jpg\n",
            "| ------------------------------ 20200924_162816.jpg\n",
            "| ------------------------------ 20200924_163001.jpg\n",
            "| ------------------------------ 20200924_163600.jpg\n",
            "| ------------------------------ 20200924_163615.jpg\n",
            "| ------------------------------ 20200924_184953.jpg\n",
            "| ------------------------------ 20200924_214515.jpg\n",
            "| ------------------------------ 20200925_132043.jpg\n",
            "| ------------------------------ 20200925_132112.jpg\n",
            "| ------------------------------ 20200925_132140.jpg\n",
            "| ------------------------------ 20200925_185117.jpg\n",
            "| ------------------------------ 20200925_185246.jpg\n",
            "| ------------------------------ 20200925_185338.jpg\n",
            "| ------------------------------ 20200925_185341.jpg\n",
            "| ------------------------------ 20200925_185344.jpg\n",
            "| ------------------------------ 20200925_185346.jpg\n",
            "| ------------------------------ 20200925_185349.jpg\n",
            "| ------------------------------ 20200925_185703.jpg\n",
            "| ------------------------------ 20200925_185928.jpg\n",
            "| ------------------------------ 20200925_190023.jpg\n",
            "| ------------------------------ 20200925_190653.jpg\n",
            "| ------------------------------ 20200925_194503.jpg\n",
            "| ------------------------------ 20200925_194920.jpg\n",
            "| ------------------------------ 20200925_194939.jpg\n",
            "| ------------------------------ 20200925_194942.jpg\n",
            "| ------------------------------ 20200925_210939.jpg\n",
            "| ------------------------------ 20200925_211449.jpg\n",
            "| ------------------------------ 20200925_212853.jpg\n",
            "| ------------------------------ 20200925_224240.jpg\n",
            "| ------------------------------ 20200925_224251.jpg\n",
            "| ------------------------------ 20200925_224317.jpg\n",
            "| ------------------------------ 20200925_224523.jpg\n",
            "| ------------------------------ 20200925_224545.jpg\n",
            "| ------------------------------ 20200925_224606.jpg\n",
            "| ------------------------------ 20200925_224743.jpg\n",
            "| ------------------------------ 20200925_230538.jpg\n",
            "| ------------------------------ 20200925_230803.jpg\n",
            "| ------------------------------ 20200925_230917.jpg\n",
            "| ------------------------------ 20200925_231156.jpg\n",
            "| ------------------------------ 20200925_231653.jpg\n",
            "| ------------------------------ 20200925_231710.jpg\n",
            "| ------------------------------ 20200925_232055.jpg\n",
            "| ------------------------------ 20200925_232405.jpg\n",
            "| -------- > .file-revisions-by-id :\n",
            "| -------- > .Trash-0 :\n",
            "| ---------- > files :\n",
            "| ---------- > info :\n",
            "| ------ > sample_data :\n",
            "| ------------------ anscombe.json\n",
            "| ------------------ README.md\n",
            "| ------------------ california_housing_test.csv\n",
            "| ------------------ california_housing_train.csv\n",
            "| ------------------ mnist_test.csv\n",
            "| ------------------ mnist_train_small.csv\n"
          ]
        }
      ],
      "source": [
        "# create a function << folder tree >> to display the the hierarchy of your cwd\n",
        "\n",
        "def folder_tree(folder):\n",
        "    for dirpath, dirs, files in os.walk(cwd):\t \n",
        "        if 'checkpoints' not in dirpath:\n",
        "                path = dirpath.split('/')     \n",
        "                print ('|', (len(path))*'--', '>',os.path.basename(dirpath),':')\n",
        "                for f in files:\n",
        "                    print ('|', len(path)*'------', f)\n",
        "                    \n",
        "\n",
        "# call function folder_tree on your cwd\n",
        "\n",
        "folder_tree(cwd)  "
      ]
    },
    {
      "cell_type": "code",
      "source": [
        "# another way to explore your folder/files \n",
        "# create function << folder_tree_2 >>\n",
        "\n",
        "\n",
        "def folder_tree_2(folder):\n",
        "    for dirPath, dirNames, fileNames in os.walk(cwd, topdown=True):\n",
        "        if 'checkpoints' not in dirPath:\n",
        "            print(\"Directory Path: \", dirPath) \n",
        "            print(len(dirNames), \"Directories = \", dirNames )\n",
        "            print(len(fileNames), \"Files = \", fileNames )\n",
        "            print('-'*10)\n",
        "\n",
        "            \n",
        "\n",
        "# call function << folder_tree_2 >> on your cwd\n",
        "# it will return all Directory Paths with contained sub_directories and files\n",
        "# nb of sub_directories and files\n",
        "\n",
        "folder_tree_2(cwd)"
      ],
      "metadata": {
        "id": "knqRLZQ-Zavw",
        "colab": {
          "base_uri": "https://localhost:8080/"
        },
        "outputId": "3060a058-5d06-4dee-9393-24b979c0b8c9"
      },
      "execution_count": 25,
      "outputs": [
        {
          "output_type": "stream",
          "name": "stdout",
          "text": [
            "Directory Path:  /content\n",
            "4 Directories =  ['.config', 'Raw_Files', 'gdrive', 'sample_data']\n",
            "4 Files =  ['DE.xlsx', 'UK.xlsx', 'FR.xlsx', 'UK_old.xlsx']\n",
            "----------\n",
            "Directory Path:  /content/.config\n",
            "2 Directories =  ['configurations', 'logs']\n",
            "6 Files =  ['active_config', '.last_opt_in_prompt.yaml', '.last_survey_prompt.yaml', '.last_update_check.json', 'gce', 'config_sentinel']\n",
            "----------\n",
            "Directory Path:  /content/.config/configurations\n",
            "0 Directories =  []\n",
            "1 Files =  ['config_default']\n",
            "----------\n",
            "Directory Path:  /content/.config/logs\n",
            "1 Directories =  ['2023.02.09']\n",
            "0 Files =  []\n",
            "----------\n",
            "Directory Path:  /content/.config/logs/2023.02.09\n",
            "0 Directories =  []\n",
            "6 Files =  ['00.00.56.519297.log', '00.01.51.378393.log', '00.02.16.185644.log', '00.02.15.490980.log', '00.01.43.663040.log', '00.01.20.713691.log']\n",
            "----------\n",
            "Directory Path:  /content/Raw_Files\n",
            "0 Directories =  []\n",
            "0 Files =  []\n",
            "----------\n",
            "Directory Path:  /content/gdrive\n",
            "4 Directories =  ['.shortcut-targets-by-id', 'MyDrive', '.file-revisions-by-id', '.Trash-0']\n",
            "0 Files =  []\n",
            "----------\n",
            "Directory Path:  /content/gdrive/.shortcut-targets-by-id\n",
            "0 Directories =  []\n",
            "0 Files =  []\n",
            "----------\n",
            "Directory Path:  /content/gdrive/MyDrive\n",
            "5 Directories =  ['Machine Learning Models', 'Data Analysis Yeisson', 'Colab Notebooks', 'Snorkeling Iceland', 'Gargano 2020']\n",
            "9 Files =  ['Reference Letter Dolores.pdf', 'Copia di Reference Letter Dolores.pdf', 'Vodafone Vertrag.pdf', 'Comple_Fabri_Gemelli.mp4', 'Documento senza titolo.gdoc', 'Addio al Celibato.gdoc', 'Hi MILES, can you help me please?', 'Thompson_Sampling_Slide.gdoc', 'Marchitto19860509-31301-541F5D34-05CE-44c2-A84C-9DA5C8455ADF.xlsx']\n",
            "----------\n",
            "Directory Path:  /content/gdrive/MyDrive/Machine Learning Models\n",
            "10 Directories =  ['Part 1 - Data Preprocessing', 'Part 2 - Regression', 'Part 3 - Classification', 'Part 4 - Clustering', 'Part 5 - Association Rule Learning', 'Part 5 - Reinforcement Learning', 'Part 6 - Natural Language Processing (NLP & BERT)', 'Part 7 - Deep Lerning', 'Part 8 - Dimensionality Reduction (PCA, LDA, Kernel PCA, QDA)', 'Part 9 - Model Selection & Boosting']\n",
            "0 Files =  []\n",
            "----------\n",
            "Directory Path:  /content/gdrive/MyDrive/Machine Learning Models/Part 1 - Data Preprocessing\n",
            "0 Directories =  []\n",
            "2 Files =  ['2.MODELS_data_preprocessing_tools.ipynb', '1.MODELS_data_preprocessing_tools.ipynb']\n",
            "----------\n",
            "Directory Path:  /content/gdrive/MyDrive/Machine Learning Models/Part 2 - Regression\n",
            "7 Directories =  ['1.Simple Linear Regression', '2.Multiple Linear Regression', '3.Polynomial Regression', '4.Support Vector Regression', '5.Decision Tree Regression', '6.Random Forest Regression', '7.Regression Model Selection']\n",
            "0 Files =  []\n",
            "----------\n",
            "Directory Path:  /content/gdrive/MyDrive/Machine Learning Models/Part 2 - Regression/1.Simple Linear Regression\n",
            "0 Directories =  []\n",
            "1 Files =  ['1.MODELS_simple_linear_regression.ipynb']\n",
            "----------\n",
            "Directory Path:  /content/gdrive/MyDrive/Machine Learning Models/Part 2 - Regression/2.Multiple Linear Regression\n",
            "0 Directories =  []\n",
            "3 Files =  ['2.2.MODELS_multiple_linear_regression.ipynb', 'Real_Estate_Regression.ipynb', '2.MODELS_multiple_linear_regression.ipynb']\n",
            "----------\n",
            "Directory Path:  /content/gdrive/MyDrive/Machine Learning Models/Part 2 - Regression/3.Polynomial Regression\n",
            "0 Directories =  []\n",
            "1 Files =  ['3.MODELS_polynomial_regression.ipynb']\n",
            "----------\n",
            "Directory Path:  /content/gdrive/MyDrive/Machine Learning Models/Part 2 - Regression/4.Support Vector Regression\n",
            "0 Directories =  []\n",
            "1 Files =  ['4.MODELS_support_vector_regression.ipynb']\n",
            "----------\n",
            "Directory Path:  /content/gdrive/MyDrive/Machine Learning Models/Part 2 - Regression/5.Decision Tree Regression\n",
            "0 Directories =  []\n",
            "1 Files =  ['5.MODELS_decision_tree_regression.ipynb']\n",
            "----------\n",
            "Directory Path:  /content/gdrive/MyDrive/Machine Learning Models/Part 2 - Regression/6.Random Forest Regression\n",
            "0 Directories =  []\n",
            "1 Files =  ['6.MODELS_random_forest_regression.ipynb']\n",
            "----------\n",
            "Directory Path:  /content/gdrive/MyDrive/Machine Learning Models/Part 2 - Regression/7.Regression Model Selection\n",
            "0 Directories =  []\n",
            "5 Files =  ['1.SELECTION_ multiple_linear_regression.ipynb', '2.SELECTION_polynomial_regression.ipynb', '3.SELECTION_support_vector_regression.ipynb', '4.SELECTION_decision_tree_regression.ipynb', '5.SELECTION_random_forest_regression.ipynb']\n",
            "----------\n",
            "Directory Path:  /content/gdrive/MyDrive/Machine Learning Models/Part 3 - Classification\n",
            "7 Directories =  ['1.Logistic Regression Model', '2.K-Nearest Neighbors', '3.Support Vector Machine', '4.Kernel SVM', '5.Naive Bayes', '6.Decision Tree ', '7.Random Forest']\n",
            "1 Files =  ['Breast_Cancer_Logit.ipynb']\n",
            "----------\n",
            "Directory Path:  /content/gdrive/MyDrive/Machine Learning Models/Part 3 - Classification/1.Logistic Regression Model\n",
            "0 Directories =  []\n",
            "1 Files =  ['1.MODELS_ logistic_regression.ipynb']\n",
            "----------\n",
            "Directory Path:  /content/gdrive/MyDrive/Machine Learning Models/Part 3 - Classification/2.K-Nearest Neighbors\n",
            "0 Directories =  []\n",
            "1 Files =  ['2.MODELS_k_nearest_neighbors.ipynb']\n",
            "----------\n",
            "Directory Path:  /content/gdrive/MyDrive/Machine Learning Models/Part 3 - Classification/3.Support Vector Machine\n",
            "0 Directories =  []\n",
            "1 Files =  ['3.MODELS_support_vector_machine.ipynb']\n",
            "----------\n",
            "Directory Path:  /content/gdrive/MyDrive/Machine Learning Models/Part 3 - Classification/4.Kernel SVM\n",
            "0 Directories =  []\n",
            "1 Files =  ['4.MODELS_kernel_svm.ipynb']\n",
            "----------\n",
            "Directory Path:  /content/gdrive/MyDrive/Machine Learning Models/Part 3 - Classification/5.Naive Bayes\n",
            "0 Directories =  []\n",
            "1 Files =  ['5.MODELS_naive_bayes.ipynb']\n",
            "----------\n",
            "Directory Path:  /content/gdrive/MyDrive/Machine Learning Models/Part 3 - Classification/6.Decision Tree \n",
            "0 Directories =  []\n",
            "1 Files =  ['6.MODELS_decision_tree_classification.ipynb']\n",
            "----------\n",
            "Directory Path:  /content/gdrive/MyDrive/Machine Learning Models/Part 3 - Classification/7.Random Forest\n",
            "0 Directories =  []\n",
            "1 Files =  ['7.MODELS_random_forest_classification.ipynb']\n",
            "----------\n",
            "Directory Path:  /content/gdrive/MyDrive/Machine Learning Models/Part 4 - Clustering\n",
            "2 Directories =  ['1.K-Means Clustering', '2.Hierarchical Clustering']\n",
            "0 Files =  []\n",
            "----------\n",
            "Directory Path:  /content/gdrive/MyDrive/Machine Learning Models/Part 4 - Clustering/1.K-Means Clustering\n",
            "0 Directories =  []\n",
            "1 Files =  ['k-means-clustering.ipynb']\n",
            "----------\n",
            "Directory Path:  /content/gdrive/MyDrive/Machine Learning Models/Part 4 - Clustering/2.Hierarchical Clustering\n",
            "0 Directories =  []\n",
            "1 Files =  ['Hierarchical-clustering.ipynb']\n",
            "----------\n",
            "Directory Path:  /content/gdrive/MyDrive/Machine Learning Models/Part 5 - Association Rule Learning\n",
            "2 Directories =  ['1.Apriori', '2.ECLAT']\n",
            "0 Files =  []\n",
            "----------\n",
            "Directory Path:  /content/gdrive/MyDrive/Machine Learning Models/Part 5 - Association Rule Learning/1.Apriori\n",
            "0 Directories =  []\n",
            "1 Files =  ['Apriori.ipynb']\n",
            "----------\n",
            "Directory Path:  /content/gdrive/MyDrive/Machine Learning Models/Part 5 - Association Rule Learning/2.ECLAT\n",
            "0 Directories =  []\n",
            "1 Files =  ['ECLAT.ipynb']\n",
            "----------\n",
            "Directory Path:  /content/gdrive/MyDrive/Machine Learning Models/Part 5 - Reinforcement Learning\n",
            "2 Directories =  ['1.Upper Confidence Bound (UCB)', '2.Thompson Sampling']\n",
            "0 Files =  []\n",
            "----------\n",
            "Directory Path:  /content/gdrive/MyDrive/Machine Learning Models/Part 5 - Reinforcement Learning/1.Upper Confidence Bound (UCB)\n",
            "0 Directories =  []\n",
            "1 Files =  ['Upper_Confidence_Bound(UCB).ipynb']\n",
            "----------\n",
            "Directory Path:  /content/gdrive/MyDrive/Machine Learning Models/Part 5 - Reinforcement Learning/2.Thompson Sampling\n",
            "0 Directories =  []\n",
            "1 Files =  ['Thompson_Sampling.ipynb']\n",
            "----------\n",
            "Directory Path:  /content/gdrive/MyDrive/Machine Learning Models/Part 6 - Natural Language Processing (NLP & BERT)\n",
            "2 Directories =  ['1.NLP', '1.NLP_BERT']\n",
            "0 Files =  []\n",
            "----------\n",
            "Directory Path:  /content/gdrive/MyDrive/Machine Learning Models/Part 6 - Natural Language Processing (NLP & BERT)/1.NLP\n",
            "0 Directories =  []\n",
            "2 Files =  ['Single_Review_Prediction_NLP.ipynb', 'Natural_Language_Processing.ipynb']\n",
            "----------\n",
            "Directory Path:  /content/gdrive/MyDrive/Machine Learning Models/Part 6 - Natural Language Processing (NLP & BERT)/1.NLP_BERT\n",
            "0 Directories =  []\n",
            "1 Files =  ['NLP with Bert for Sentiment Analysis']\n",
            "----------\n",
            "Directory Path:  /content/gdrive/MyDrive/Machine Learning Models/Part 7 - Deep Lerning\n",
            "2 Directories =  ['1.Artificial Neural Networks (ANN)', '2.Convolutional Neural Networks (CNN)']\n",
            "0 Files =  []\n",
            "----------\n",
            "Directory Path:  /content/gdrive/MyDrive/Machine Learning Models/Part 7 - Deep Lerning/1.Artificial Neural Networks (ANN)\n",
            "2 Directories =  ['a.Classification', 'b.Regression']\n",
            "0 Files =  []\n",
            "----------\n",
            "Directory Path:  /content/gdrive/MyDrive/Machine Learning Models/Part 7 - Deep Lerning/1.Artificial Neural Networks (ANN)/a.Classification\n",
            "0 Directories =  []\n",
            "1 Files =  ['Classification_Artificial_Neural_Network.ipynb']\n",
            "----------\n",
            "Directory Path:  /content/gdrive/MyDrive/Machine Learning Models/Part 7 - Deep Lerning/1.Artificial Neural Networks (ANN)/b.Regression\n",
            "0 Directories =  []\n",
            "1 Files =  ['Regression_Artificial_Neural_Network']\n",
            "----------\n",
            "Directory Path:  /content/gdrive/MyDrive/Machine Learning Models/Part 7 - Deep Lerning/2.Convolutional Neural Networks (CNN)\n",
            "0 Directories =  []\n",
            "1 Files =  ['Convolutional_Neural_Network.ipynb']\n",
            "----------\n",
            "Directory Path:  /content/gdrive/MyDrive/Machine Learning Models/Part 8 - Dimensionality Reduction (PCA, LDA, Kernel PCA, QDA)\n",
            "3 Directories =  ['1.Principal Component Analysis (PCA)', '2.Linear Discriminant Analysis (LDA)', '3.Kernel PCA']\n",
            "0 Files =  []\n",
            "----------\n",
            "Directory Path:  /content/gdrive/MyDrive/Machine Learning Models/Part 8 - Dimensionality Reduction (PCA, LDA, Kernel PCA, QDA)/1.Principal Component Analysis (PCA)\n",
            "0 Directories =  []\n",
            "1 Files =  ['PCA.ipynb']\n",
            "----------\n",
            "Directory Path:  /content/gdrive/MyDrive/Machine Learning Models/Part 8 - Dimensionality Reduction (PCA, LDA, Kernel PCA, QDA)/2.Linear Discriminant Analysis (LDA)\n",
            "0 Directories =  []\n",
            "1 Files =  ['LDA.ipynb']\n",
            "----------\n",
            "Directory Path:  /content/gdrive/MyDrive/Machine Learning Models/Part 8 - Dimensionality Reduction (PCA, LDA, Kernel PCA, QDA)/3.Kernel PCA\n",
            "0 Directories =  []\n",
            "1 Files =  ['Kernel_PCA.ipynb']\n",
            "----------\n",
            "Directory Path:  /content/gdrive/MyDrive/Machine Learning Models/Part 9 - Model Selection & Boosting\n",
            "3 Directories =  ['1.Model Selection (K-Fold Cross Validation - Grid Search)', '2.XG Boost', '3.CatBoost']\n",
            "0 Files =  []\n",
            "----------\n",
            "Directory Path:  /content/gdrive/MyDrive/Machine Learning Models/Part 9 - Model Selection & Boosting/1.Model Selection (K-Fold Cross Validation - Grid Search)\n",
            "0 Directories =  []\n",
            "2 Files =  ['K-Fold_Cross_Validation.ipynb', 'Grid_Search.ipynb']\n",
            "----------\n",
            "Directory Path:  /content/gdrive/MyDrive/Machine Learning Models/Part 9 - Model Selection & Boosting/2.XG Boost\n",
            "0 Directories =  []\n",
            "2 Files =  ['XG_Boost_Classification.ipynb', 'XG_Boost_Regression.ipynb']\n",
            "----------\n",
            "Directory Path:  /content/gdrive/MyDrive/Machine Learning Models/Part 9 - Model Selection & Boosting/3.CatBoost\n",
            "0 Directories =  []\n",
            "2 Files =  ['CatBoost_Classification.ipynb', 'CatBoost_Regression.ipynb']\n",
            "----------\n",
            "Directory Path:  /content/gdrive/MyDrive/Data Analysis Yeisson\n",
            "3 Directories =  ['Regression', 'Classification', 'Honey_Case']\n",
            "3 Files =  ['Engine - Rank .py', 'CSM_company.py', '2_CSM_Stefano.py']\n",
            "----------\n",
            "Directory Path:  /content/gdrive/MyDrive/Data Analysis Yeisson/Regression\n",
            "0 Directories =  []\n",
            "12 Files =  ['simple_linear_regression.R', 'simple_linear_regression.py', 'multiple_linear_regression.py', 'multiple_linear_regression.R', 'polynomial_regression.R', 'polynomial_regression.py', 'svr.R', 'svr.py', 'decision_tree_regression.R', 'decision_tree_regression.py', 'random_forest_regression.R', 'random_forest_regression.py']\n",
            "----------\n",
            "Directory Path:  /content/gdrive/MyDrive/Data Analysis Yeisson/Classification\n",
            "0 Directories =  []\n",
            "14 Files =  ['logistic_regression.R', 'logistic_regression.py', 'knn.R', 'knn.py', 'svm.R', 'svm.py', 'kernel_svm.py', 'kernel_svm.R', 'naive_bayes.R', 'naive_bayes.py', 'decision_tree_classification.R', 'decision_tree_classification.py', 'random_forest_classification.py', 'random_forest_classification.R']\n",
            "----------\n",
            "Directory Path:  /content/gdrive/MyDrive/Data Analysis Yeisson/Honey_Case\n",
            "2 Directories =  ['#1', '#2']\n",
            "1 Files =  ['HoneypotCaseStudy-DataScientist.pdf']\n",
            "----------\n",
            "Directory Path:  /content/gdrive/MyDrive/Data Analysis Yeisson/Honey_Case/#1\n",
            "0 Directories =  []\n",
            "6 Files =  ['search_results_s1.csv', 'search_results_s2.csv', 'search_results_s4.csv', 'search_results_s3.csv', 'search_results_s5.csv', '1_search_algorithms.ipynb']\n",
            "----------\n",
            "Directory Path:  /content/gdrive/MyDrive/Data Analysis Yeisson/Honey_Case/#2\n",
            "0 Directories =  []\n",
            "2 Files =  ['Data_Analyst_Company_Activity.csv', '2_CSM_Team.ipynb']\n",
            "----------\n",
            "Directory Path:  /content/gdrive/MyDrive/Colab Notebooks\n",
            "0 Directories =  []\n",
            "10 Files =  ['Test.ipynb', 'Copy of Test.ipynb', 'Untitled', 'Python_Basics_Module_1 (1).ipynb', 'Python_Basics_Module_1_Practice.ipynb', 'Copy of Python_Basics_Module_1_Practice.ipynb', 'Python_Basics_Module_1.ipynb', 'Python_Basics_Module_1_Practice_2.ipynb', 'Python_Basics_Module_1_Practice_2 (1).ipynb', 'Files_Manipulation_Module_2.ipynb']\n",
            "----------\n",
            "Directory Path:  /content/gdrive/MyDrive/Snorkeling Iceland\n",
            "0 Directories =  []\n",
            "133 Files =  ['Copia di G0182998.JPG', 'Copia di G0182995.JPG', 'Copia di GOPR2943.JPG', 'Copia di G0182999.JPG', 'Copia di G0183000.JPG', 'Copia di G0182997.JPG', 'Copia di G0182996.JPG', 'Copia di GOPR2942.JPG', 'Copia di GOPR2944.JPG', 'Copia di G0183001.JPG', 'Copia di GOPR2945.JPG', 'Copia di GOPR2946.JPG', 'Copia di GOPR2948.JPG', 'Copia di GOPR2950.JPG', 'Copia di GOPR2951.JPG', 'Copia di GOPR2954.JPG', 'Copia di GOPR2947.JPG', 'Copia di GOPR2953.JPG', 'Copia di GOPR2952.JPG', 'Copia di GOPR2964.JPG', 'Copia di GOPR2962.JPG', 'Copia di GOPR2956.JPG', 'Copia di GOPR2960.JPG', 'Copia di GOPR2957.JPG', 'Copia di GOPR2963.JPG', 'Copia di GOPR2959.JPG', 'Copia di GOPR2955.JPG', 'Copia di GOPR2958.JPG', 'Copia di GOPR2961.JPG', 'Copia di GOPR2971.JPG', 'Copia di GOPR2967.JPG', 'Copia di GOPR2966.JPG', 'Copia di GOPR2973.JPG', 'Copia di GOPR2968.JPG', 'Copia di GOPR2974.JPG', 'Copia di GOPR2972.JPG', 'Copia di GOPR2970.JPG', 'Copia di GOPR2969.JPG', 'Copia di GOPR2965.JPG', 'Copia di GOPR2984.JPG', 'Copia di GOPR2975.JPG', 'Copia di GOPR2976.JPG', 'Copia di GOPR2982.JPG', 'Copia di GOPR2978.JPG', 'Copia di GOPR2977.JPG', 'Copia di GOPR2983.JPG', 'Copia di GOPR2979.JPG', 'Copia di GOPR2980.JPG', 'Copia di GOPR2991.JPG', 'Copia di GOPR2994.JPG', 'Copia di GOPR2989.JPG', 'Copia di GOPR2986.JPG', 'Copia di GOPR2993.JPG', 'Copia di GOPR2987.JPG', 'Copia di GOPR2988.JPG', 'Copia di GOPR2985.JPG', 'Copia di GOPR2992.JPG', 'Copia di GOPR3004.JPG', 'Copia di GOPR3005.JPG', 'Copia di GOPR3006.JPG', 'Copia di GOPR3010.JPG', 'Copia di GOPR3002.JPG', 'Copia di GOPR3008.JPG', 'Copia di GOPR3003.JPG', 'Copia di GOPR3011.JPG', 'Copia di GOPR3009.JPG', 'Copia di GOPR3007.JPG', 'Copia di GOPR3014.JPG', 'Copia di GOPR3016.JPG', 'Copia di GOPR3012.JPG', 'Copia di GOPR3021.JPG', 'Copia di GOPR3020.JPG', 'Copia di GOPR3013.JPG', 'Copia di GOPR3019.JPG', 'Copia di GOPR3015.JPG', 'Copia di GOPR3018.JPG', 'Copia di GOPR3017.JPG', 'Copia di GOPR3025.JPG', 'Copia di GOPR3026.JPG', 'Copia di GOPR3024.JPG', 'Copia di GOPR3027.JPG', 'Copia di GOPR3028.JPG', 'Copia di GOPR3022.JPG', 'Copia di GOPR3029.JPG', 'Copia di GOPR3023.JPG', 'Copia di GOPR3031.JPG', 'Copia di GOPR3030.JPG', 'Copia di GOPR3032.JPG', 'Copia di GOPR3037.JPG', 'Copia di GOPR3033.JPG', 'Copia di GOPR3040.JPG', 'Copia di GOPR3038.JPG', 'Copia di GOPR3039.JPG', 'Copia di GOPR3041.JPG', 'Copia di GOPR3034.JPG', 'Copia di GOPR3036.JPG', 'Copia di GOPR3035.JPG', 'Copia di GOPR3043.JPG', 'Copia di GOPR3050.JPG', 'Copia di GOPR3049.JPG', 'Copia di GOPR3048.JPG', 'Copia di GOPR3051.JPG', 'Copia di GOPR3045.JPG', 'Copia di GOPR3046.JPG', 'Copia di GOPR3044.JPG', 'Copia di GOPR3047.JPG', 'Copia di GOPR3042.JPG', 'Copia di GOPR3053.JPG', 'Copia di GOPR3060.JPG', 'Copia di GOPR3054.JPG', 'Copia di GOPR3058.JPG', 'Copia di GOPR3052.JPG', 'Copia di GOPR3057.JPG', 'Copia di GOPR3056.JPG', 'Copia di GOPR3059.JPG', 'Copia di GOPR3061.JPG', 'Copia di GOPR3055.JPG', 'Copia di GOPR3066.JPG', 'Copia di GOPR3065.JPG', 'Copia di GOPR3067.JPG', 'Copia di GOPR3070.JPG', 'Copia di GOPR3063.JPG', 'Copia di GOPR3069.JPG', 'Copia di GOPR3064.JPG', 'Copia di GOPR3075.JPG', 'Copia di GOPR3074.JPG', 'Copia di GOPR3073.JPG', 'Copia di GOPR3077.JPG', 'Copia di GOPR3079.JPG', 'Copia di GOPR3072.JPG', 'Copia di GOPR3080.JPG', 'Copia di GOPR3076.JPG', 'Copia di GOPR3078.JPG']\n",
            "----------\n",
            "Directory Path:  /content/gdrive/MyDrive/Gargano 2020\n",
            "0 Directories =  []\n",
            "109 Files =  ['20200923_104612.jpg', '20200923_120542.jpg', '20200923_193408.jpg', '20200923_193419.jpg', '20200923_194158.jpg', '20200923_194744.jpg', '20200923_195508.jpg', '20200923_195522.jpg', '20200923_195551.jpg', '20200923_195707.jpg', '20200924_101906.jpg', '20200924_101909.jpg', '20200924_101919.jpg', '20200924_134242.jpg', '20200924_134252.jpg', '20200924_134306.jpg', '20200924_134411.jpg', '20200924_134445.jpg', '20200924_134451.jpg', '20200924_134504.jpg', '20200924_134622.jpg', '20200924_134645.jpg', '20200924_134724.jpg', '20200924_135405.jpg', '20200924_135407.jpg', '20200924_135505.jpg', '20200924_135510.jpg', '20200924_135738.jpg', '20200924_135747.jpg', '20200924_135848.jpg', '20200924_140629.jpg', '20200924_140647.jpg', '20200924_140712.jpg', '20200924_140909.jpg', '20200924_140916.jpg', '20200924_140922.jpg', '20200924_141018.jpg', '20200924_141020.jpg', '20200924_141024.jpg', '20200924_141028.jpg', '20200924_141055.jpg', '20200924_141210.jpg', '20200924_141215.jpg', '20200924_141230.jpg', '20200924_141343.jpg', '20200924_141348.jpg', '20200924_141420.jpg', '20200924_141444.jpg', '20200924_141604.jpg', '20200924_141616.jpg', '20200924_141714.jpg', '20200924_141716.jpg', '20200924_141717.jpg', '20200924_142053.jpg', '20200924_142105.jpg', '20200924_142137.jpg', '20200924_142201.jpg', '20200924_142426.jpg', '20200924_142448.jpg', '20200924_142509.jpg', '20200924_142536.jpg', '20200924_142729.jpg', '20200924_142731.jpg', '20200924_142747.jpg', '20200924_142818.jpg', '20200924_152127.jpg', '20200924_162735.jpg', '20200924_162816.jpg', '20200924_163001.jpg', '20200924_163600.jpg', '20200924_163615.jpg', '20200924_184953.jpg', '20200924_214515.jpg', '20200925_132043.jpg', '20200925_132112.jpg', '20200925_132140.jpg', '20200925_185117.jpg', '20200925_185246.jpg', '20200925_185338.jpg', '20200925_185341.jpg', '20200925_185344.jpg', '20200925_185346.jpg', '20200925_185349.jpg', '20200925_185703.jpg', '20200925_185928.jpg', '20200925_190023.jpg', '20200925_190653.jpg', '20200925_194503.jpg', '20200925_194920.jpg', '20200925_194939.jpg', '20200925_194942.jpg', '20200925_210939.jpg', '20200925_211449.jpg', '20200925_212853.jpg', '20200925_224240.jpg', '20200925_224251.jpg', '20200925_224317.jpg', '20200925_224523.jpg', '20200925_224545.jpg', '20200925_224606.jpg', '20200925_224743.jpg', '20200925_230538.jpg', '20200925_230803.jpg', '20200925_230917.jpg', '20200925_231156.jpg', '20200925_231653.jpg', '20200925_231710.jpg', '20200925_232055.jpg', '20200925_232405.jpg']\n",
            "----------\n",
            "Directory Path:  /content/gdrive/.file-revisions-by-id\n",
            "0 Directories =  []\n",
            "0 Files =  []\n",
            "----------\n",
            "Directory Path:  /content/gdrive/.Trash-0\n",
            "2 Directories =  ['files', 'info']\n",
            "0 Files =  []\n",
            "----------\n",
            "Directory Path:  /content/gdrive/.Trash-0/files\n",
            "0 Directories =  []\n",
            "0 Files =  []\n",
            "----------\n",
            "Directory Path:  /content/gdrive/.Trash-0/info\n",
            "0 Directories =  []\n",
            "0 Files =  []\n",
            "----------\n",
            "Directory Path:  /content/sample_data\n",
            "0 Directories =  []\n",
            "6 Files =  ['anscombe.json', 'README.md', 'california_housing_test.csv', 'california_housing_train.csv', 'mnist_test.csv', 'mnist_train_small.csv']\n",
            "----------\n"
          ]
        }
      ]
    },
    {
      "cell_type": "markdown",
      "source": [
        "# 4.&nbsp;Looking for Files with extensions"
      ],
      "metadata": {
        "id": "FCmGQXHAsiwd"
      }
    },
    {
      "cell_type": "code",
      "execution_count": 26,
      "metadata": {
        "id": "pOhA88_hwXk7",
        "colab": {
          "base_uri": "https://localhost:8080/"
        },
        "outputId": "c423dfe8-b10f-4f72-e4f2-71e27bd0eeb0"
      },
      "outputs": [
        {
          "output_type": "stream",
          "name": "stdout",
          "text": [
            "there are 4 excel files: \n"
          ]
        },
        {
          "output_type": "execute_result",
          "data": {
            "text/plain": [
              "['DE.xlsx', 'UK.xlsx', 'FR.xlsx', 'UK_old.xlsx']"
            ]
          },
          "metadata": {},
          "execution_count": 26
        }
      ],
      "source": [
        "# create a list  \"excel_files\" with all files that have the extension excel_files in the working directory\n",
        "\n",
        "excel_files=[]\n",
        "for file in os.listdir(cwd):\n",
        "    if file.endswith('.xlsx'): # or '.csv' if your'looinkg for csv files\n",
        "            excel_files.append(file)\n",
        "            \n",
        "# it will print out excel names present in current directory folder = 'Basics_Python\"\n",
        "print( 'there are', len(excel_files), \"excel files: \")\n",
        "excel_files"
      ]
    },
    {
      "cell_type": "code",
      "execution_count": 27,
      "metadata": {
        "id": "T9-EafJPwlNw",
        "colab": {
          "base_uri": "https://localhost:8080/"
        },
        "outputId": "d695a9fe-dcbe-4018-b223-c74e8f68e195"
      },
      "outputs": [
        {
          "output_type": "stream",
          "name": "stdout",
          "text": [
            "['/content/DE.xlsx', '/content/UK.xlsx', '/content/FR.xlsx', '/content/UK_old.xlsx']\n",
            "\n",
            "File names with their paths:\n",
            "/content/DE.xlsx\n",
            "/content/UK.xlsx\n",
            "/content/FR.xlsx\n",
            "/content/UK_old.xlsx\n"
          ]
        }
      ],
      "source": [
        "# check the absolute path of all excel files\n",
        "\n",
        "# we'll use \"glob\" package that works with file paths\n",
        "# glob package is usefull to return all file paths that match a specific pattern\n",
        "\n",
        "# create a list where are stored the paths of every excel file\n",
        "\n",
        "# in the working directory here stored in the variable cwd... \n",
        "# find all files that have the extension .xlsx ...\n",
        "# and then concatenate the working directory path + excel file name ...\n",
        "# we will obtain the absolute path to each excel file ...\n",
        "# and then store them all into a list called \"filespaths\"\n",
        "\n",
        "\n",
        "filespaths = glob.glob(cwd + \"/*.xlsx\")  # create a list that from cwd, will pick up every the ABSOLUTE PATH for files with extention .xlsx\n",
        "print(filespaths)\n",
        "print(\"\")\n",
        "\n",
        "# print out excel paths one by one\n",
        "print('File names with their paths:')\n",
        "for path in filespaths:\n",
        "    print(path)"
      ]
    },
    {
      "cell_type": "markdown",
      "metadata": {
        "id": "cVcMXwSp_dfS"
      },
      "source": [
        "# 4.&nbsp;Change working directory"
      ]
    },
    {
      "cell_type": "code",
      "source": [
        "# if you want to change the current working directory (cwd) \n",
        "\n",
        "# change cwd to folder MyDrive (that is in directory content/gdrive)\n",
        "os.chdir('/content/gdrive/MyDrive')\n",
        "# check the new current working directory now\n",
        "cwd = os.getcwd()\n",
        "cwd"
      ],
      "metadata": {
        "id": "XQ-pL1_8XKud",
        "colab": {
          "base_uri": "https://localhost:8080/",
          "height": 35
        },
        "outputId": "165cb31f-019e-40ac-dfac-0ef9a5546ebc"
      },
      "execution_count": 28,
      "outputs": [
        {
          "output_type": "execute_result",
          "data": {
            "text/plain": [
              "'/content/gdrive/MyDrive'"
            ],
            "application/vnd.google.colaboratory.intrinsic+json": {
              "type": "string"
            }
          },
          "metadata": {},
          "execution_count": 28
        }
      ]
    },
    {
      "cell_type": "code",
      "source": [
        "# List all files and directories in the new current directory << MyDrive >>\n",
        "os.listdir('.')"
      ],
      "metadata": {
        "id": "WJW-tAbOXabC",
        "colab": {
          "base_uri": "https://localhost:8080/"
        },
        "outputId": "a49a47c4-7511-4e83-bcc8-a3528121c860"
      },
      "execution_count": 29,
      "outputs": [
        {
          "output_type": "execute_result",
          "data": {
            "text/plain": [
              "['Reference Letter Dolores.pdf',\n",
              " 'Copia di Reference Letter Dolores.pdf',\n",
              " 'Vodafone Vertrag.pdf',\n",
              " 'Machine Learning Models',\n",
              " 'Data Analysis Yeisson',\n",
              " 'Colab Notebooks',\n",
              " 'Snorkeling Iceland',\n",
              " 'Comple_Fabri_Gemelli.mp4',\n",
              " 'Documento senza titolo.gdoc',\n",
              " 'Addio al Celibato.gdoc',\n",
              " 'Hi MILES, can you help me please?',\n",
              " 'Gargano 2020',\n",
              " 'Thompson_Sampling_Slide.gdoc',\n",
              " 'Marchitto19860509-31301-541F5D34-05CE-44c2-A84C-9DA5C8455ADF.xlsx']"
            ]
          },
          "metadata": {},
          "execution_count": 29
        }
      ]
    },
    {
      "cell_type": "code",
      "source": [
        "from google.colab import drive\n",
        "drive.mount('/content/drive')"
      ],
      "metadata": {
        "id": "W8YPjWCcBGY-"
      },
      "execution_count": null,
      "outputs": []
    },
    {
      "cell_type": "markdown",
      "metadata": {
        "id": "klW5vu46w_Kj"
      },
      "source": [
        "# 5.&nbsp;Manipulate Directories"
      ]
    },
    {
      "cell_type": "markdown",
      "source": [
        "## Create a new folder"
      ],
      "metadata": {
        "id": "PVVj46wU1IDj"
      }
    },
    {
      "cell_type": "code",
      "execution_count": 12,
      "metadata": {
        "id": "bFIMYI_UxCJ2",
        "colab": {
          "base_uri": "https://localhost:8080/"
        },
        "outputId": "905ca5f3-0a61-4dbf-83f0-cc52961fe93f"
      },
      "outputs": [
        {
          "output_type": "stream",
          "name": "stdout",
          "text": [
            "/content/Raw_Files\n"
          ]
        }
      ],
      "source": [
        "# create a new folder called \"Raw_Files\"\n",
        "\n",
        "# First: \n",
        "# write the path to the \"Raw_Files\" sub_directory\n",
        "folder = cwd + '/' + 'Raw_Files' # == > /content/gdrive/MyDrive/Raw_Files\n",
        "print(folder)\n",
        "\n",
        "# Second:\n",
        "# create the folder at the indicated path\n",
        "os.makedirs(folder) # create an empty folder called << Raw_Files >>"
      ]
    },
    {
      "cell_type": "code",
      "source": [
        "# now check the sub_directories in cwd with os.listdir()\n",
        "\n",
        "os.listdir('.')"
      ],
      "metadata": {
        "id": "WYSDSulCyvEm",
        "colab": {
          "base_uri": "https://localhost:8080/"
        },
        "outputId": "2e6b5988-07f5-434a-a39e-4a74eb0df559"
      },
      "execution_count": 13,
      "outputs": [
        {
          "output_type": "execute_result",
          "data": {
            "text/plain": [
              "['.config', 'Raw_Files', 'gdrive', 'sample_data']"
            ]
          },
          "metadata": {},
          "execution_count": 13
        }
      ]
    },
    {
      "cell_type": "markdown",
      "source": [
        "## Rename Folders"
      ],
      "metadata": {
        "id": "C1Umqr6K1P12"
      }
    },
    {
      "cell_type": "code",
      "execution_count": null,
      "metadata": {
        "id": "MoC3H5lP_dfI"
      },
      "outputs": [],
      "source": [
        "# rename folder <<Raw_Files>> in  <<Raw_Excel_Files folder>>\n",
        "\n",
        "new_name= 'Raw_Excel_Files' # variable containing the new name value\n",
        "\n",
        "os.rename(folder, new_name) # it will rename \"Raw_Files\" into 'Raw_Excel_Files'\n",
        "\n",
        "# now check the sub_directories in cwd with os.listdir()\n",
        "\n",
        "os.listdir('.')"
      ]
    },
    {
      "cell_type": "markdown",
      "source": [
        "## Nested Folders"
      ],
      "metadata": {
        "id": "DAPHBheo1VPS"
      }
    },
    {
      "cell_type": "code",
      "execution_count": null,
      "metadata": {
        "id": "_Oq-PpDbxE-t"
      },
      "outputs": [],
      "source": [
        "# Create a nested folder (folder in the folder)\n",
        "\n",
        "other = cwd + '/' + 'New_Folder' + '/' +'Inner_folder' \n",
        "os.makedirs(other)\n",
        "other # the folder \"New_Folder\" will contain another empty folder \"Inner Folder\""
      ]
    },
    {
      "cell_type": "code",
      "source": [
        "# now check the sub_directories in cwd with os.listdir()\n",
        "\n",
        "os.listdir('.')"
      ],
      "metadata": {
        "id": "08SG9wSL1eIW"
      },
      "execution_count": null,
      "outputs": []
    },
    {
      "cell_type": "markdown",
      "metadata": {
        "id": "pt37qb5y_dfL"
      },
      "source": [
        "## Navigate in tree hierarchy"
      ]
    },
    {
      "cell_type": "code",
      "execution_count": null,
      "metadata": {
        "id": "tPrUfZ8d_dfM"
      },
      "outputs": [],
      "source": [
        "# list all files in the current directoy\n",
        "\n",
        "os.listdir('.')"
      ]
    },
    {
      "cell_type": "code",
      "execution_count": null,
      "metadata": {
        "id": "sd5ghfUK_dfM"
      },
      "outputs": [],
      "source": [
        "# move up in the hierarchy to list the files from the upper level \n",
        "\n",
        "os.listdir('..')"
      ]
    },
    {
      "cell_type": "code",
      "execution_count": null,
      "metadata": {
        "id": "kw2WlP2e_dfN"
      },
      "outputs": [],
      "source": [
        "# list files inside a specific folder (get children)\n",
        "\n",
        "print (os.listdir('New_Folder'))\n"
      ]
    },
    {
      "cell_type": "code",
      "execution_count": null,
      "metadata": {
        "id": "pImwa3TA_dfN"
      },
      "outputs": [],
      "source": [
        "# get parent of a scpecific folder (go back with 1 level)\n",
        "\n",
        "# save path to New_FOlder\n",
        "new_folder = '/content/gdrive/MyDrive/New_Folder' \n",
        "\n",
        "# prit parent of Inner_Folder\n",
        "print(Path(new_folder).parents[0])\n"
      ]
    },
    {
      "cell_type": "code",
      "execution_count": null,
      "metadata": {
        "id": "yHEx2ok__dfO"
      },
      "outputs": [],
      "source": [
        "# get grand parent of a scpecific folder (go back with 2 levels)\n",
        "\n",
        "print(Path(new_folder).parents[1])\n"
      ]
    },
    {
      "cell_type": "markdown",
      "source": [
        "## Paths to the folders"
      ],
      "metadata": {
        "id": "bgTrGUaYFzMk"
      }
    },
    {
      "cell_type": "code",
      "source": [
        "# Find Paths\n",
        "\n",
        "# relative path ==> only the final file name\n",
        "print('Relative path of file:     ', os.path.relpath('Raw_Excel_Files') )\n",
        "\n",
        "# Absolute directoryname ==> the path up to the up_directories (parents)\n",
        "print('Absolute directoryname: ',  os.path.dirname(os.path.abspath('Raw_Excel_Files')))\n",
        "\n",
        "# Absolute path ==> the whole path with the file name included\n",
        "print('Absolute path of file:     ',  os.path.abspath('Raw_Excel_Files'))\n"
      ],
      "metadata": {
        "id": "P8uJTXfcCFI4"
      },
      "execution_count": null,
      "outputs": []
    },
    {
      "cell_type": "markdown",
      "metadata": {
        "id": "Jgviz2daz65q"
      },
      "source": [
        "# 6.&nbsp;Copy File\n"
      ]
    },
    {
      "cell_type": "code",
      "source": [
        "# reminder of containing in cwd: MyDrive\n",
        "\n",
        "os.listdir('.')"
      ],
      "metadata": {
        "id": "IMcy5Fj_5qXR"
      },
      "execution_count": null,
      "outputs": []
    },
    {
      "cell_type": "code",
      "source": [
        "# reminder of containing in content directory\n",
        "\n",
        "os.listdir('/content')"
      ],
      "metadata": {
        "id": "AWkt3KmYJNoz"
      },
      "execution_count": null,
      "outputs": []
    },
    {
      "cell_type": "markdown",
      "source": [
        "## Copy a single file"
      ],
      "metadata": {
        "id": "r0RDXm1dKgH2"
      }
    },
    {
      "cell_type": "code",
      "execution_count": null,
      "metadata": {
        "id": "jIlgijfL_dfO"
      },
      "outputs": [],
      "source": [
        "# copy one file in another folder\n",
        "\n",
        "# we want to copy UK.xlsx file  in 'Raw_Excel_Files' folder\n",
        "\n",
        "# destination WHERE we want to copy \n",
        "dest = 'Raw_Excel_Files'\n",
        "\n",
        "# source file : WHAT we want to copy\n",
        "src=  '/content/UK.xlsx' # source ==> the path to the file that we want to copy (we wuse absoute path as UK.xlsx is outside cwd)"
      ]
    },
    {
      "cell_type": "code",
      "execution_count": null,
      "metadata": {
        "id": "bWw3YvhHxguf"
      },
      "outputs": [],
      "source": [
        "# work with shutil package\n",
        "''' Shutil module offers high-level operation on a file like a copy, create, move\n",
        "and remote operation on the file '''\n",
        "\n",
        "#  copy the file from the source <<src>> in the folder we want << dest >>\n",
        "shutil.copy(src, # what file we want to copy, more specifically its path\n",
        "            dest) # path to the folder we want to paste the copied file"
      ]
    },
    {
      "cell_type": "code",
      "execution_count": null,
      "metadata": {
        "id": "wQKytxOX1SSm"
      },
      "outputs": [],
      "source": [
        "# file that we want to copy : FR.xlsx\n",
        "src='/content/FR.xlsx'\n",
        "\n",
        "# copy the file in the folder we want\n",
        "shutil.copy(src, dest)"
      ]
    },
    {
      "cell_type": "code",
      "execution_count": null,
      "metadata": {
        "id": "ry059DRi_dfR"
      },
      "outputs": [],
      "source": [
        "# file that we want to copy : DE.xlsx\n",
        "src='/content/DE.xlsx'\n",
        "\n",
        "# copy the file in the folder we want\n",
        "shutil.copy(src, dest)"
      ]
    },
    {
      "cell_type": "code",
      "source": [
        "# and now look at the containing of Raw_Excel_Files'\n",
        "\n",
        "os.listdir('Raw_Excel_Files')"
      ],
      "metadata": {
        "id": "-WJNe2zk-aAS"
      },
      "execution_count": null,
      "outputs": []
    },
    {
      "cell_type": "markdown",
      "source": [
        "## Copy multiple files at once"
      ],
      "metadata": {
        "id": "30Bfuo5yKlhn"
      }
    },
    {
      "cell_type": "code",
      "source": [
        "# find all absolute paths to our xlsx files in 'Raw_Excel_Files' with glob\n",
        "\n",
        "path = 'Raw_Excel_Files'\n",
        "\n",
        "# create a list filespaths that ..\n",
        "# ... will contain the paths to all files with extension .xlsx\n",
        "filespaths = glob.glob(os.path.abspath(path) + \"/*.xlsx\")\n",
        "filespaths"
      ],
      "metadata": {
        "id": "LiRv6xydD8wf"
      },
      "execution_count": null,
      "outputs": []
    },
    {
      "cell_type": "code",
      "execution_count": null,
      "metadata": {
        "id": "bdsQE7Fh_dfR"
      },
      "outputs": [],
      "source": [
        "# copy the multiple files in the folder we want\n",
        "\n",
        "dest = cwd # we want to copy our file in cwd MyDrive\n",
        "\n",
        "# we want to copy all excel files in Raw_Excel_Files in dest\n",
        "print(filespaths)\n",
        "print(dest)\n",
        "\n",
        "for file in filespaths:\n",
        "    shutil.copy(file, dest)"
      ]
    },
    {
      "cell_type": "code",
      "source": [
        "# check the cwd containing again to notify the presece of excel files\n",
        "os.listdir('.')\n"
      ],
      "metadata": {
        "id": "qCs2wZZFE9RZ"
      },
      "execution_count": null,
      "outputs": []
    },
    {
      "cell_type": "markdown",
      "metadata": {
        "id": "ot-XcKgS0vli"
      },
      "source": [
        "# 7.&nbsp;Move File"
      ]
    },
    {
      "cell_type": "code",
      "execution_count": null,
      "metadata": {
        "id": "MC1Fq8YA_dfT"
      },
      "outputs": [],
      "source": [
        "# create a folder << Old_Files >> where we would like to move files \n",
        "\n",
        "# First: write the path to folder\n",
        "folder_1 = cwd + '/' + 'Old_Files'\n",
        "print(folder_1)\n",
        "\n",
        "# Second: create the folder at the indicated path\n",
        "os.makedirs(folder_1)\n",
        "\n",
        "# check cwd\n",
        "os.listdir('.')"
      ]
    },
    {
      "cell_type": "code",
      "execution_count": null,
      "metadata": {
        "id": "aRJI5bND0ySA"
      },
      "outputs": [],
      "source": [
        "# folder_to_move (it would be like cut/paste\n",
        "\n",
        "file_to_move = '/content/UK_old.xlsx' # from directory content\n",
        "\n",
        "shutil.move(file_to_move, # file/folder to cut\n",
        "           folder_1) # folder where to move = '/content/gdrive/MyDrive/Old_Files/UK_old.xlsx'  \n",
        "           \n",
        "\n",
        "# check directory content\n",
        "print('content: ', os.listdir('/content'))  # now UK_old.xlsx has disapeared for content\n",
        "      \n",
        "# check directory MyDrive/Old_Files\n",
        "print('MyDrive/Old_Files: ', os.listdir('Old_Files'))  # now UK_old.xlsx has disapeared for content"
      ]
    },
    {
      "cell_type": "markdown",
      "metadata": {
        "id": "mXx48d0W2427"
      },
      "source": [
        "# 5.&nbsp;Delete Files"
      ]
    },
    {
      "cell_type": "code",
      "execution_count": null,
      "metadata": {
        "id": "RYdN0l___dfU"
      },
      "outputs": [],
      "source": [
        "# reminder of cwd\n",
        "cwd"
      ]
    },
    {
      "cell_type": "code",
      "source": [
        "# check Old_Files containing\n",
        "\n",
        "os.listdir('Old_Files')"
      ],
      "metadata": {
        "id": "etZpw10PN-tG"
      },
      "execution_count": null,
      "outputs": []
    },
    {
      "cell_type": "markdown",
      "source": [
        "## Delete file"
      ],
      "metadata": {
        "id": "6GbgsaVwPd8U"
      }
    },
    {
      "cell_type": "code",
      "execution_count": null,
      "metadata": {
        "id": "rOYRvWSr2a0q"
      },
      "outputs": [],
      "source": [
        "# delete a file UK_old.xlsx from Old_Files with os.unlink\n",
        "\n",
        "os.unlink('Old_Files/UK_old.xlsx') # relative path as UK_old in the working directory\n",
        "\n",
        "# check again Old_Files containing\n",
        "os.listdir('Old_Files')"
      ]
    },
    {
      "cell_type": "code",
      "source": [
        "# check cwd\n",
        "os.listdir('.')"
      ],
      "metadata": {
        "id": "wm39NbJfOmXB"
      },
      "execution_count": null,
      "outputs": []
    },
    {
      "cell_type": "markdown",
      "source": [
        "## Delete folder"
      ],
      "metadata": {
        "id": "x-R9sj0KPijH"
      }
    },
    {
      "cell_type": "markdown",
      "source": [
        "There is a diference when deleting EMPTY and NOT empty folders:\n",
        "\n",
        "\n",
        "\n",
        "1.   For ***EMPTY** use .rmdir function *from package os*\n",
        "2.   For ***NOT EMPTY** use .rmtree function *from package shutil*"
      ],
      "metadata": {
        "id": "Xjcn3nbyOy8t"
      }
    },
    {
      "cell_type": "markdown",
      "source": [
        "**EMPTY folder**"
      ],
      "metadata": {
        "id": "LhodrGvWPoQg"
      }
    },
    {
      "cell_type": "code",
      "execution_count": null,
      "metadata": {
        "id": "DxLnN3ya3KWN"
      },
      "outputs": [],
      "source": [
        "# delete empty folder 'Old_Files' from cwd with os.rmdir\n",
        "\n",
        "folder_to_remove= 'Old_Files'\n",
        "os.rmdir(folder_to_remove)"
      ]
    },
    {
      "cell_type": "markdown",
      "source": [
        "*** NOT EMPTY folder**"
      ],
      "metadata": {
        "id": "xMzy2OziPth0"
      }
    },
    {
      "cell_type": "code",
      "source": [
        "# list files inside a specific folder (get children)\n",
        "\n",
        "print (os.listdir('New_Folder'))"
      ],
      "metadata": {
        "id": "HJXGMKc8QKsS"
      },
      "execution_count": null,
      "outputs": []
    },
    {
      "cell_type": "code",
      "source": [
        "# save path to New_FOlder\n",
        "inner_folder = '/content/gdrive/MyDrive/New_Folder/Inner_folder'\n",
        "\n",
        "# prit parent of Inner_Folder\n",
        "print(Path(inner_folder).parents[0])"
      ],
      "metadata": {
        "id": "uVBmXk4gQXGC"
      },
      "execution_count": null,
      "outputs": []
    },
    {
      "cell_type": "code",
      "execution_count": null,
      "metadata": {
        "id": "eV1B39qb3iCB"
      },
      "outputs": [],
      "source": [
        "# delete NOT empty folder\n",
        "\n",
        "# New_Folder contains another file 'Inner_folder'\n",
        "\n",
        "shutil.rmtree('New_Folder') \n",
        "\n",
        "# check again cwd containing to certify that folder has disapeared\n",
        "\n",
        "os.listdir('.')"
      ]
    },
    {
      "cell_type": "markdown",
      "metadata": {
        "id": "0fgLzMm584mg"
      },
      "source": [
        "# Work with Excel Files\n"
      ]
    },
    {
      "cell_type": "code",
      "execution_count": null,
      "metadata": {
        "id": "Eml73ZwN9Z-V"
      },
      "outputs": [],
      "source": [
        "# Create a folder 'Processed_Files' in the cwd where we'll store all processed files \n",
        "\n",
        "des = cwd + '/' + 'Processed_Files'\n",
        "os.makedirs(des)"
      ]
    },
    {
      "cell_type": "markdown",
      "metadata": {
        "id": "7EImbUAb-oBT"
      },
      "source": [
        "\n",
        "\n",
        "1.  First read each excel files and put them into pandas dataframe\n",
        "2.  Consolidate all excel files into a single excel with separate sheet by country\n",
        "3.  Consolidate all excels into a single excel sheet\n",
        "\n"
      ]
    },
    {
      "cell_type": "markdown",
      "metadata": {
        "id": "Z1bvAVLN_dfX"
      },
      "source": [
        "## Read excels"
      ]
    },
    {
      "cell_type": "code",
      "execution_count": null,
      "metadata": {
        "id": "5Vlm5_yr89UT"
      },
      "outputs": [],
      "source": [
        "# if the excel file has too many rows, when visualising the data, not all columns are displayed\n",
        "# to overcome this we use .set_option method\n",
        "\n",
        "# set visible all columns\n",
        "pd.set_option('display.max_columns', None)"
      ]
    },
    {
      "cell_type": "code",
      "execution_count": null,
      "metadata": {
        "id": "7qNp7_9l9ORl"
      },
      "outputs": [],
      "source": [
        "# DE.xlsx file\n",
        "\n",
        "# store the nme of the file in filename variable\n",
        "filename = 'DE.xlsx'\n",
        "# read the excel file with .read_excel method\n",
        "de = pd.read_excel(filename, # the file we want to read\n",
        "                   index_col=None, # do not add column index\n",
        "                   header=0) # the first row to be used as headers (column names)\n",
        "\n",
        "# check dataframe shape\n",
        "print('Dataframe Shape: ', de.shape)\n",
        "de.head()"
      ]
    },
    {
      "cell_type": "code",
      "execution_count": null,
      "metadata": {
        "id": "q-ZJeXh4_KBz"
      },
      "outputs": [],
      "source": [
        "# add a column 'Country' to diferentiate the data in the consilidated dataframe\n",
        "de['Country']= 'DE'\n",
        "\n",
        "# check dataframe shape after adding the new column\n",
        "print('Dataframe Shape: ', de.shape)\n",
        "\n",
        "# visualize first rows\n",
        "de.head()"
      ]
    },
    {
      "cell_type": "code",
      "execution_count": null,
      "metadata": {
        "id": "EJdbhRHx-gDK"
      },
      "outputs": [],
      "source": [
        "print('nb of columns: ', len(de.columns))\n",
        "print('nb of rows: ', len(de))\n",
        "de.columns"
      ]
    },
    {
      "cell_type": "code",
      "execution_count": null,
      "metadata": {
        "id": "8epCZNIl_Put"
      },
      "outputs": [],
      "source": [
        "# FR\n",
        "filename = 'FR.xlsx'\n",
        "fr = pd.read_excel(filename, index_col=None, header=0)\n",
        "\n",
        "\n",
        "# add a column 'Country' to diferentiate the data in the consilidated dataframe\n",
        "fr['Country']= 'FR'\n",
        "\n",
        "# check dataframe shape, dimensions after adding the new column\n",
        "print('Dataframe Shape: ', fr.shape)\n",
        "print('nb of columns: ', len(fr.columns))\n",
        "print('nb of rows: ', len(fr))\n",
        "\n",
        "# print column names \n",
        "print('column names: ', fr.columns)\n",
        "\n",
        "# visualize first rows\n",
        "fr.head()"
      ]
    },
    {
      "cell_type": "code",
      "execution_count": null,
      "metadata": {
        "id": "qmpsNlOW_lzx"
      },
      "outputs": [],
      "source": [
        "# UK\n",
        "filename = 'UK.xlsx'\n",
        "uk = pd.read_excel(filename, index_col=None, header=0)\n",
        "\n",
        "\n",
        "# add a column 'Country' to diferentiate the data in the consilidated dataframe\n",
        "uk['Country']= 'UK'\n",
        "\n",
        "# check dataframe shape, dimensions after adding the new column\n",
        "print('Dataframe Shape: ', uk.shape)\n",
        "print('nb of columns: ', len(uk.columns))\n",
        "print('nb of rows: ', len(uk))\n",
        "\n",
        "# print column names \n",
        "print('column names: ', uk.columns)\n",
        "\n",
        "# visualize first rows\n",
        "uk.head()"
      ]
    },
    {
      "cell_type": "markdown",
      "metadata": {
        "id": "oVUypWR__dfa"
      },
      "source": [
        "## Single excel file with separate sheet by country"
      ]
    },
    {
      "cell_type": "markdown",
      "metadata": {
        "id": "1PfPXAglA_5-"
      },
      "source": [
        "Create an excel file where country would be on a separate sheet"
      ]
    },
    {
      "cell_type": "code",
      "execution_count": null,
      "metadata": {
        "id": "m9lLicSB_rER"
      },
      "outputs": [],
      "source": [
        "# create excel writer in the Processed_Files folder with the name 'Consolidation_by_sheet'\n",
        "writer = pd.ExcelWriter('Processed_Files/Consolidated_by_sheet.xlsx')\n",
        "# write dataframe to excel sheet named 'marks'\n",
        "uk.to_excel(writer, 'UK')\n",
        "fr.to_excel(writer, 'FR')\n",
        "de.to_excel(writer, 'DE')\n",
        "\n",
        "# - > !!!! save and close the excel file (important)\n",
        "writer.save()\n",
        "writer.close()"
      ]
    },
    {
      "cell_type": "markdown",
      "metadata": {
        "id": "RyLObXdTBH1N"
      },
      "source": [
        "## Consolidate all excels into a single excel sheet"
      ]
    },
    {
      "cell_type": "code",
      "execution_count": null,
      "metadata": {
        "id": "qWGHukDy_dfb"
      },
      "outputs": [],
      "source": [
        "frames = [de, fr, uk]\n",
        "\n",
        "df_concat = pd.concat(frames)\n",
        "\n",
        "print(df_concat.shape)\n",
        "\n",
        "# display first rows\n",
        "df_concat.head()"
      ]
    },
    {
      "cell_type": "code",
      "execution_count": null,
      "metadata": {
        "id": "uCKOn1kI_dfb"
      },
      "outputs": [],
      "source": [
        "# diplay last rows\n",
        "df_concat.tail()"
      ]
    },
    {
      "cell_type": "code",
      "execution_count": null,
      "metadata": {
        "id": "t_eBZayU_dfc"
      },
      "outputs": [],
      "source": [
        "# to consolidate multiple dataframes, there are 3 rules:\n",
        "# they have to have the same nb of columns (here all 3 df have 15 columns)\n",
        "# to concatenate by column names, all df have to have the same column names\n",
        "# the dfs must have same column order\n",
        "\n",
        "print(\"Column nb of DE: \", len(de.columns), de.columns)\n",
        "print(\"Column nb of FR: \", len(fr.columns), fr.columns)\n",
        "print(\"Column nb of UK: \", len(uk.columns), uk.columns)"
      ]
    },
    {
      "cell_type": "code",
      "execution_count": null,
      "metadata": {
        "id": "ncF6rqze_dfc"
      },
      "outputs": [],
      "source": [
        "# rename the dfs columns o they would be identical\n",
        "# we will use english column names for all dfs\n",
        "\n",
        "columns = uk.columns\n",
        "\n",
        "fr.columns = columns\n",
        "de.columns = columns\n",
        "\n",
        "print(\"Column nb of DE: \", len(de.columns), de.columns)\n",
        "print(\"Column nb of FR: \", len(fr.columns), fr.columns)\n",
        "print(\"Column nb of UK: \", len(uk.columns), uk.columns)"
      ]
    },
    {
      "cell_type": "code",
      "execution_count": null,
      "metadata": {
        "id": "sLHprNJd_dfd"
      },
      "outputs": [],
      "source": [
        "# this time the concatenation of dfs is correct\n",
        "\n",
        "df_concat = pd.concat(frames)\n",
        "\n",
        "print(df_concat.shape)\n",
        "df_concat.head()"
      ]
    },
    {
      "cell_type": "code",
      "execution_count": null,
      "metadata": {
        "id": "AY7QuVbE_dfd"
      },
      "outputs": [],
      "source": [
        "# last rows\n",
        "df_concat.tail()"
      ]
    },
    {
      "cell_type": "code",
      "execution_count": null,
      "metadata": {
        "id": "_lWwQnt7_dfd"
      },
      "outputs": [],
      "source": [
        "# create excel writer in the Processed_Files with the name 'Consolidation'\n",
        "writer = pd.ExcelWriter('Processed_Files/Consolidation.xlsx')\n",
        "\n",
        "# write dataframe to excel sheet named 'marks'\n",
        "df_concat.to_excel(writer, 'Consolidation')\n",
        "\n",
        "# save the excel file\n",
        "writer.save()\n",
        "writer.close()"
      ]
    },
    {
      "cell_type": "markdown",
      "metadata": {
        "id": "ktm1SmGr_dfe"
      },
      "source": [
        "# Reinitiate original folder"
      ]
    },
    {
      "cell_type": "markdown",
      "source": [
        "***!!!!!    Execute this section if you are sure you want to remove files/folders !!!!***"
      ],
      "metadata": {
        "id": "-p9kawthUCMf"
      }
    },
    {
      "cell_type": "code",
      "execution_count": null,
      "metadata": {
        "id": "lcou2vbv_dfe"
      },
      "outputs": [],
      "source": [
        "os.listdir('.')"
      ]
    },
    {
      "cell_type": "code",
      "execution_count": null,
      "metadata": {
        "id": "TakbtTKp_dfe"
      },
      "outputs": [],
      "source": [
        "# delete Raw_Excel_Files to reinitiate the whole folder\n",
        "\n",
        "#shutil.rmtree('Processed_Files')\n",
        "#shutil.rmtree('Raw_Excel_Files') \n",
        "\n",
        "# empty file\n",
        "#os.rmdir('Old_Files')\n",
        "\n",
        "# remove files from cwd\n",
        "os.unlink('UK.xlsx')\n",
        "os.unlink('FR.xlsx')\n",
        "os.unlink('DE.xlsx')\n",
        "\n"
      ]
    },
    {
      "cell_type": "code",
      "source": [
        "os.listdir('/content')"
      ],
      "metadata": {
        "id": "lsnZqD0xToBn"
      },
      "execution_count": null,
      "outputs": []
    },
    {
      "cell_type": "code",
      "execution_count": null,
      "metadata": {
        "id": "9frgfoQc_dff"
      },
      "outputs": [],
      "source": [
        "# remove files from cwd\n",
        "\n",
        "os.unlink('/content/UK.xlsx')\n",
        "os.unlink('/content/FR.xlsx')\n",
        "os.unlink('/content/DE.xlsx')\n",
        "os.unlink('/content/UK_old.xlsx') \n",
        "\n",
        "os.listdir('/content')"
      ]
    },
    {
      "cell_type": "code",
      "source": [],
      "metadata": {
        "id": "VJ42Z64xT0lx"
      },
      "execution_count": null,
      "outputs": []
    }
  ],
  "metadata": {
    "colab": {
      "provenance": [],
      "toc_visible": true,
      "include_colab_link": true
    },
    "kernelspec": {
      "display_name": "Python 3 (ipykernel)",
      "language": "python",
      "name": "python3"
    },
    "language_info": {
      "codemirror_mode": {
        "name": "ipython",
        "version": 3
      },
      "file_extension": ".py",
      "mimetype": "text/x-python",
      "name": "python",
      "nbconvert_exporter": "python",
      "pygments_lexer": "ipython3",
      "version": "3.9.7"
    },
    "toc-autonumbering": true
  },
  "nbformat": 4,
  "nbformat_minor": 0
}